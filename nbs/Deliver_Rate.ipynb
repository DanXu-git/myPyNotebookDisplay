{
 "cells": [
  {
   "cell_type": "markdown",
   "metadata": {},
   "source": [
    "# Project delivery rate exploratory analysis\n",
    "\n",
    "## *Exploration*\n",
    "1. Exploratory analysis\n",
    "2. Outliars\n",
    "3. Relationship\n",
    "\n",
    "## *DR(Delivery Rate) Computation*\n",
    "1. General DR\n",
    "2. DR by analysis type\n",
    "3. DR by PRj_Type\n",
    "4. DR by person"
   ]
  },
  {
   "cell_type": "code",
   "execution_count": 18,
   "metadata": {},
   "outputs": [
    {
     "data": {
      "text/html": [
       "<button onclick=\"$('.input, .prompt, .output_stderr, .output_error').toggle();\">Toggle Code</button>\n",
       "'''Click this button to hide/show Codes'''"
      ],
      "text/plain": [
       "<IPython.core.display.HTML object>"
      ]
     },
     "metadata": {},
     "output_type": "display_data"
    }
   ],
   "source": [
    "%%HTML\n",
    "<button onclick=\"$('.input, .prompt, .output_stderr, .output_error').toggle();\">Toggle Code</button>\n",
    "'''Click this button to hide/show Codes'''"
   ]
  },
  {
   "cell_type": "code",
   "execution_count": 1,
   "metadata": {
    "collapsed": true
   },
   "outputs": [],
   "source": [
    "import numpy as np\n",
    "import pandas as pd\n",
    "from scipy import stats\n",
    "from scipy.stats import norm\n",
    "import matplotlib.pyplot as plt\n",
    "import seaborn as sns\n",
    "from datetime import datetime\n",
    "from IPython.display import HTML\n",
    "\n",
    "%matplotlib inline"
   ]
  },
  {
   "cell_type": "code",
   "execution_count": 3,
   "metadata": {},
   "outputs": [
    {
     "data": {
      "text/html": [
       "<div>\n",
       "<style>\n",
       "    .dataframe thead tr:only-child th {\n",
       "        text-align: right;\n",
       "    }\n",
       "\n",
       "    .dataframe thead th {\n",
       "        text-align: left;\n",
       "    }\n",
       "\n",
       "    .dataframe tbody tr th {\n",
       "        vertical-align: top;\n",
       "    }\n",
       "</style>\n",
       "<table border=\"1\" class=\"dataframe\">\n",
       "  <thead>\n",
       "    <tr style=\"text-align: right;\">\n",
       "      <th></th>\n",
       "      <th></th>\n",
       "      <th>子项目编码</th>\n",
       "      <th>项目名称</th>\n",
       "      <th>Analysis_Type</th>\n",
       "      <th>Prj_Type</th>\n",
       "      <th>信息负责人</th>\n",
       "      <th>Executor</th>\n",
       "      <th>结题日期</th>\n",
       "      <th>Plan_Time</th>\n",
       "      <th>Down_Time</th>\n",
       "      <th>Qual_Time</th>\n",
       "      <th>End_Time</th>\n",
       "      <th>结题审核</th>\n",
       "      <th>Standard_Time</th>\n",
       "    </tr>\n",
       "  </thead>\n",
       "  <tbody>\n",
       "    <tr>\n",
       "      <th>0</th>\n",
       "      <td>1028</td>\n",
       "      <td>MUSunaR</td>\n",
       "      <td>una170508徐婧小鼠RNA-Seq</td>\n",
       "      <td>标准信息分析</td>\n",
       "      <td>RNA-Seq</td>\n",
       "      <td>管海娇</td>\n",
       "      <td>guanhaijiao</td>\n",
       "      <td>2017-05-23 15:19:50</td>\n",
       "      <td>2017-05-12 14:30:01</td>\n",
       "      <td>NaT</td>\n",
       "      <td>2017-05-22 23:46:29</td>\n",
       "      <td>2017-05-23</td>\n",
       "      <td>2017-05-23</td>\n",
       "      <td>5.0</td>\n",
       "    </tr>\n",
       "    <tr>\n",
       "      <th>1</th>\n",
       "      <td>770</td>\n",
       "      <td>MONoggR</td>\n",
       "      <td>ogg170505张伟10红曲霉RNA-Seq</td>\n",
       "      <td>标准信息分析</td>\n",
       "      <td>RNA-Seq</td>\n",
       "      <td>邹利君</td>\n",
       "      <td>zoulijun</td>\n",
       "      <td>2017-05-23 18:06:09</td>\n",
       "      <td>2017-05-19 17:46:11</td>\n",
       "      <td>NaT</td>\n",
       "      <td>2017-05-22 18:07:19</td>\n",
       "      <td>2017-05-23</td>\n",
       "      <td>2017-05-23</td>\n",
       "      <td>5.0</td>\n",
       "    </tr>\n",
       "    <tr>\n",
       "      <th>4</th>\n",
       "      <td>196</td>\n",
       "      <td>SCOsbwE</td>\n",
       "      <td>sbw170113郑小敏蝎子Eukaryote Transcriptome Resequen...</td>\n",
       "      <td>标准信息分析</td>\n",
       "      <td>Eukaryote Transcriptome Resequencing</td>\n",
       "      <td>邹利君</td>\n",
       "      <td>zoulijun</td>\n",
       "      <td>2017-05-23 18:10:07</td>\n",
       "      <td>2017-03-14 13:53:31</td>\n",
       "      <td>2017-01-26</td>\n",
       "      <td>2017-05-22 15:18:38</td>\n",
       "      <td>2017-05-23</td>\n",
       "      <td>2017-05-23</td>\n",
       "      <td>10.0</td>\n",
       "    </tr>\n",
       "    <tr>\n",
       "      <th>6</th>\n",
       "      <td>600</td>\n",
       "      <td>INSdqjT</td>\n",
       "      <td>dqj170427于杨阳昆虫Eukaryote de novo Transcriptome</td>\n",
       "      <td>标准+高级信息分析</td>\n",
       "      <td>Eukaryote de novo Transcriptome</td>\n",
       "      <td>邹利君</td>\n",
       "      <td>zoulijun</td>\n",
       "      <td>2017-05-23 18:11:39</td>\n",
       "      <td>2017-05-11 15:44:29</td>\n",
       "      <td>NaT</td>\n",
       "      <td>2017-05-22 11:39:59</td>\n",
       "      <td>2017-05-23</td>\n",
       "      <td>2017-05-23</td>\n",
       "      <td>10.0</td>\n",
       "    </tr>\n",
       "    <tr>\n",
       "      <th>7</th>\n",
       "      <td>365</td>\n",
       "      <td>WHEvmeE</td>\n",
       "      <td>vme170331谢尚波小麦Eukaryote Transcriptome Resequen...</td>\n",
       "      <td>标准信息分析</td>\n",
       "      <td>Eukaryote Transcriptome Resequencing</td>\n",
       "      <td>管海娇</td>\n",
       "      <td>guanhaijiao</td>\n",
       "      <td>2017-05-24 11:57:13</td>\n",
       "      <td>2017-04-14 14:23:59</td>\n",
       "      <td>NaT</td>\n",
       "      <td>2017-05-24 10:32:30</td>\n",
       "      <td>2017-05-24</td>\n",
       "      <td>2017-05-24</td>\n",
       "      <td>10.0</td>\n",
       "    </tr>\n",
       "  </tbody>\n",
       "</table>\n",
       "</div>"
      ],
      "text/plain": [
       "           子项目编码                                               项目名称  \\\n",
       "0  1028  MUSunaR                               una170508徐婧小鼠RNA-Seq   \n",
       "1   770  MONoggR                            ogg170505张伟10红曲霉RNA-Seq   \n",
       "4   196  SCOsbwE  sbw170113郑小敏蝎子Eukaryote Transcriptome Resequen...   \n",
       "6   600  INSdqjT      dqj170427于杨阳昆虫Eukaryote de novo Transcriptome   \n",
       "7   365  WHEvmeE  vme170331谢尚波小麦Eukaryote Transcriptome Resequen...   \n",
       "\n",
       "  Analysis_Type                              Prj_Type 信息负责人     Executor  \\\n",
       "0        标准信息分析                               RNA-Seq   管海娇  guanhaijiao   \n",
       "1        标准信息分析                               RNA-Seq   邹利君     zoulijun   \n",
       "4        标准信息分析  Eukaryote Transcriptome Resequencing   邹利君     zoulijun   \n",
       "6     标准+高级信息分析       Eukaryote de novo Transcriptome   邹利君     zoulijun   \n",
       "7        标准信息分析  Eukaryote Transcriptome Resequencing   管海娇  guanhaijiao   \n",
       "\n",
       "                 结题日期           Plan_Time  Down_Time           Qual_Time  \\\n",
       "0 2017-05-23 15:19:50 2017-05-12 14:30:01        NaT 2017-05-22 23:46:29   \n",
       "1 2017-05-23 18:06:09 2017-05-19 17:46:11        NaT 2017-05-22 18:07:19   \n",
       "4 2017-05-23 18:10:07 2017-03-14 13:53:31 2017-01-26 2017-05-22 15:18:38   \n",
       "6 2017-05-23 18:11:39 2017-05-11 15:44:29        NaT 2017-05-22 11:39:59   \n",
       "7 2017-05-24 11:57:13 2017-04-14 14:23:59        NaT 2017-05-24 10:32:30   \n",
       "\n",
       "    End_Time       结题审核  Standard_Time  \n",
       "0 2017-05-23 2017-05-23            5.0  \n",
       "1 2017-05-23 2017-05-23            5.0  \n",
       "4 2017-05-23 2017-05-23           10.0  \n",
       "6 2017-05-23 2017-05-23           10.0  \n",
       "7 2017-05-24 2017-05-24           10.0  "
      ]
     },
     "execution_count": 3,
     "metadata": {},
     "output_type": "execute_result"
    }
   ],
   "source": [
    "df = pd.read_excel(\"../input/2017-08-21.xlsx\", sheet = 'SQL Results')\n",
    "df = df.drop(df.loc[df['Standard_Time'].isnull()].index)\n",
    "#df = df.reset_index(drop = True)\n",
    "df.head()"
   ]
  },
  {
   "cell_type": "code",
   "execution_count": 4,
   "metadata": {
    "collapsed": true
   },
   "outputs": [],
   "source": [
    "fo = df[df['Analysis_Type'] == '纯过滤']\n",
    "df = df.drop(fo.loc[fo['Down_Time'].isnull()].index)\n",
    "df = df.set_index('End_Time')\n",
    "df = df['2017-06':'2017-09']\n",
    "df = df.reset_index()"
   ]
  },
  {
   "cell_type": "markdown",
   "metadata": {},
   "source": [
    "## So nulls are mainly in Down_Time"
   ]
  },
  {
   "cell_type": "code",
   "execution_count": 470,
   "metadata": {},
   "outputs": [
    {
     "data": {
      "text/plain": [
       "End_Time         0.000\n",
       "                 0.000\n",
       "子项目编码            0.000\n",
       "项目名称             0.000\n",
       "Analysis_Type    0.000\n",
       "Prj_Type         0.000\n",
       "信息负责人            0.000\n",
       "Executor         0.000\n",
       "结题日期             0.000\n",
       "Plan_Time        0.000\n",
       "Down_Time        0.495\n",
       "Qual_Time        0.000\n",
       "结题审核             0.000\n",
       "Standard_Time    0.000\n",
       "dtype: float64"
      ]
     },
     "execution_count": 470,
     "metadata": {},
     "output_type": "execute_result"
    }
   ],
   "source": [
    "# Nulls\n",
    "df.isnull().mean().round(3)"
   ]
  },
  {
   "cell_type": "markdown",
   "metadata": {},
   "source": [
    "## 使用下机时间和方案更新时间较后的一个，跟结题申请时间比较\n",
    "## 计算得到项目执行时间"
   ]
  },
  {
   "cell_type": "markdown",
   "metadata": {},
   "source": [
    "# 以结题审核时间为准计算交付率"
   ]
  },
  {
   "cell_type": "code",
   "execution_count": 474,
   "metadata": {},
   "outputs": [
    {
     "data": {
      "text/plain": [
       "count    1110.000000\n",
       "mean       13.545946\n",
       "std        17.758909\n",
       "min       -39.000000\n",
       "25%         4.000000\n",
       "50%         8.000000\n",
       "75%        18.000000\n",
       "max       238.000000\n",
       "Name: Work_days, dtype: float64"
      ]
     },
     "execution_count": 474,
     "metadata": {},
     "output_type": "execute_result"
    }
   ],
   "source": [
    "# Compute Prject Work Days 以结题审核时间为准\n",
    "df['Down_Time'] = df['Down_Time'].fillna(0)\n",
    "df['Start_Time'] = [df['Down_Time'][i] > df['Plan_Time'][i] and df['Down_Time'][i] or df['Plan_Time'][i] for i in df.index]\n",
    "dd = (df['结题审核'] - df['Start_Time'])\n",
    "dd = dd.dt.days\n",
    "df['Work_days'] = dd\n",
    "df['Work_days'].describe()"
   ]
  },
  {
   "cell_type": "code",
   "execution_count": 475,
   "metadata": {},
   "outputs": [
    {
     "data": {
      "text/plain": [
       "<matplotlib.legend.Legend at 0x12397aeb8>"
      ]
     },
     "execution_count": 475,
     "metadata": {},
     "output_type": "execute_result"
    },
    {
     "data": {
      "image/png": "[encoded data removed]",
      "text/plain": [
       "<matplotlib.figure.Figure at 0x12397ada0>"
      ]
     },
     "metadata": {},
     "output_type": "display_data"
    }
   ],
   "source": [
    "data_filter_only = df[df['Analysis_Type'] == '纯过滤']\n",
    "data_std_prj = df[df['Analysis_Type'] != '纯过滤']\n",
    "f, ax = plt.subplots(figsize=(8,6))\n",
    "p1 = sns.distplot(data_filter_only['Work_days'])\n",
    "p1 = sns.distplot(data_std_prj['Work_days'])\n",
    "p1.legend(labels=('filter_only', 'Standard'))"
   ]
  },
  {
   "cell_type": "code",
   "execution_count": 476,
   "metadata": {},
   "outputs": [
    {
     "name": "stdout",
     "output_type": "stream",
     "text": [
      " 整体合格率: 37.48% \n",
      " 标准项目合格率: 24.96% \n",
      " 只过滤合格率: 54.09% \n",
      "\n"
     ]
    }
   ],
   "source": [
    "genral_dr = (df['Work_days'] <= df['Standard_Time']).mean()\n",
    "std_dr = (data_std_prj['Work_days'] <= data_std_prj['Standard_Time']).mean()\n",
    "fo_dr = (data_filter_only['Work_days'] <= data_filter_only['Standard_Time']).mean()\n",
    "#print(\"\", round(genral_dr, 3), round(std_dr, 3), round(fo_dr, 3))\n",
    "print(\" 整体合格率: %.2f%% \\n 标准项目合格率: %.2f%% \\n 只过滤合格率: %.2f%% \\n\" %(genral_dr*100, std_dr*100, fo_dr*100))"
   ]
  },
  {
   "cell_type": "markdown",
   "metadata": {},
   "source": [
    "# 以申请结题时间为准计算交付率"
   ]
  },
  {
   "cell_type": "code",
   "execution_count": 5,
   "metadata": {},
   "outputs": [
    {
     "data": {
      "text/plain": [
       "count    1110.000000\n",
       "mean       13.191892\n",
       "std        17.587656\n",
       "min       -39.000000\n",
       "25%         4.000000\n",
       "50%         8.000000\n",
       "75%        17.000000\n",
       "max       230.000000\n",
       "Name: Work_days, dtype: float64"
      ]
     },
     "execution_count": 5,
     "metadata": {},
     "output_type": "execute_result"
    }
   ],
   "source": [
    "# Compute Prject Work Days 以结题申请时间为准\n",
    "df['Down_Time'] = df['Down_Time'].fillna(0)\n",
    "df['Start_Time'] = [df['Down_Time'][i] > df['Plan_Time'][i] and df['Down_Time'][i] or df['Plan_Time'][i] for i in df.index]\n",
    "dd = (df['End_Time'] - df['Start_Time'])\n",
    "dd = dd.dt.days\n",
    "df['Work_days'] = dd\n",
    "df['Work_days'].describe()"
   ]
  },
  {
   "cell_type": "code",
   "execution_count": 472,
   "metadata": {},
   "outputs": [
    {
     "data": {
      "text/plain": [
       "<matplotlib.legend.Legend at 0x12380efd0>"
      ]
     },
     "execution_count": 472,
     "metadata": {},
     "output_type": "execute_result"
    },
    {
     "data": {
      "image/png": "[encoded data removed]",
      "text/plain": [
       "<matplotlib.figure.Figure at 0x1224c2320>"
      ]
     },
     "metadata": {},
     "output_type": "display_data"
    }
   ],
   "source": [
    "data_filter_only = df[df['Analysis_Type'] == '纯过滤']\n",
    "data_std_prj = df[df['Analysis_Type'] != '纯过滤']\n",
    "f, ax = plt.subplots(figsize=(8,6))\n",
    "p1 = sns.distplot(data_filter_only['Work_days'])\n",
    "p1 = sns.distplot(data_std_prj['Work_days'])\n",
    "p1.legend(labels=('filter_only', 'Standard'))"
   ]
  },
  {
   "cell_type": "code",
   "execution_count": 473,
   "metadata": {},
   "outputs": [
    {
     "name": "stdout",
     "output_type": "stream",
     "text": [
      " 整体合格率: 39.55% \n",
      " 标准项目合格率: 26.54% \n",
      " 只过滤合格率: 56.81% \n",
      "\n"
     ]
    }
   ],
   "source": [
    "genral_dr = (df['Work_days'] <= df['Standard_Time']).mean()\n",
    "std_dr = (data_std_prj['Work_days'] <= data_std_prj['Standard_Time']).mean()\n",
    "fo_dr = (data_filter_only['Work_days'] <= data_filter_only['Standard_Time']).mean()\n",
    "#print(\"\", round(genral_dr, 3), round(std_dr, 3), round(fo_dr, 3))\n",
    "print(\" 整体合格率: %.2f%% \\n 标准项目合格率: %.2f%% \\n 只过滤合格率: %.2f%% \\n\" %(genral_dr*100, std_dr*100, fo_dr*100))"
   ]
  },
  {
   "cell_type": "code",
   "execution_count": 6,
   "metadata": {},
   "outputs": [
    {
     "data": {
      "text/html": [
       "<div>\n",
       "<style>\n",
       "    .dataframe thead tr:only-child th {\n",
       "        text-align: right;\n",
       "    }\n",
       "\n",
       "    .dataframe thead th {\n",
       "        text-align: left;\n",
       "    }\n",
       "\n",
       "    .dataframe tbody tr th {\n",
       "        vertical-align: top;\n",
       "    }\n",
       "</style>\n",
       "<table border=\"1\" class=\"dataframe\">\n",
       "  <thead>\n",
       "    <tr style=\"text-align: right;\">\n",
       "      <th></th>\n",
       "      <th></th>\n",
       "      <th>Standard_Time</th>\n",
       "      <th>Work_days</th>\n",
       "      <th>eff</th>\n",
       "    </tr>\n",
       "    <tr>\n",
       "      <th>Executor</th>\n",
       "      <th></th>\n",
       "      <th></th>\n",
       "      <th></th>\n",
       "      <th></th>\n",
       "    </tr>\n",
       "  </thead>\n",
       "  <tbody>\n",
       "    <tr>\n",
       "      <th>chenwenjing1</th>\n",
       "      <td>40796</td>\n",
       "      <td>80.0</td>\n",
       "      <td>42</td>\n",
       "      <td>0.525000</td>\n",
       "    </tr>\n",
       "    <tr>\n",
       "      <th>guowenwen</th>\n",
       "      <td>73561</td>\n",
       "      <td>150.0</td>\n",
       "      <td>102</td>\n",
       "      <td>0.680000</td>\n",
       "    </tr>\n",
       "    <tr>\n",
       "      <th>wuzijing</th>\n",
       "      <td>148136</td>\n",
       "      <td>430.0</td>\n",
       "      <td>534</td>\n",
       "      <td>1.241860</td>\n",
       "    </tr>\n",
       "    <tr>\n",
       "      <th>likalin</th>\n",
       "      <td>58252</td>\n",
       "      <td>210.0</td>\n",
       "      <td>265</td>\n",
       "      <td>1.261905</td>\n",
       "    </tr>\n",
       "    <tr>\n",
       "      <th>zhuyanchao</th>\n",
       "      <td>13551</td>\n",
       "      <td>25.0</td>\n",
       "      <td>32</td>\n",
       "      <td>1.280000</td>\n",
       "    </tr>\n",
       "    <tr>\n",
       "      <th>zhangdichang</th>\n",
       "      <td>22695</td>\n",
       "      <td>45.0</td>\n",
       "      <td>72</td>\n",
       "      <td>1.600000</td>\n",
       "    </tr>\n",
       "    <tr>\n",
       "      <th>xuweiling</th>\n",
       "      <td>64103</td>\n",
       "      <td>165.0</td>\n",
       "      <td>276</td>\n",
       "      <td>1.672727</td>\n",
       "    </tr>\n",
       "    <tr>\n",
       "      <th>yangli2</th>\n",
       "      <td>136029</td>\n",
       "      <td>295.0</td>\n",
       "      <td>538</td>\n",
       "      <td>1.823729</td>\n",
       "    </tr>\n",
       "    <tr>\n",
       "      <th>guanhaijiao</th>\n",
       "      <td>346200</td>\n",
       "      <td>1245.0</td>\n",
       "      <td>2363</td>\n",
       "      <td>1.897992</td>\n",
       "    </tr>\n",
       "    <tr>\n",
       "      <th>laqingpeng</th>\n",
       "      <td>134527</td>\n",
       "      <td>265.0</td>\n",
       "      <td>518</td>\n",
       "      <td>1.954717</td>\n",
       "    </tr>\n",
       "    <tr>\n",
       "      <th>hejiani</th>\n",
       "      <td>328630</td>\n",
       "      <td>1190.0</td>\n",
       "      <td>2387</td>\n",
       "      <td>2.005882</td>\n",
       "    </tr>\n",
       "    <tr>\n",
       "      <th>caixiongying</th>\n",
       "      <td>236453</td>\n",
       "      <td>940.0</td>\n",
       "      <td>2291</td>\n",
       "      <td>2.437234</td>\n",
       "    </tr>\n",
       "    <tr>\n",
       "      <th>zoulijun</th>\n",
       "      <td>210320</td>\n",
       "      <td>860.0</td>\n",
       "      <td>2232</td>\n",
       "      <td>2.595349</td>\n",
       "    </tr>\n",
       "    <tr>\n",
       "      <th>zhaoyongtian</th>\n",
       "      <td>177092</td>\n",
       "      <td>760.0</td>\n",
       "      <td>2223</td>\n",
       "      <td>2.925000</td>\n",
       "    </tr>\n",
       "    <tr>\n",
       "      <th>danxu</th>\n",
       "      <td>10574</td>\n",
       "      <td>90.0</td>\n",
       "      <td>274</td>\n",
       "      <td>3.044444</td>\n",
       "    </tr>\n",
       "    <tr>\n",
       "      <th>zhengyuan</th>\n",
       "      <td>18738</td>\n",
       "      <td>95.0</td>\n",
       "      <td>494</td>\n",
       "      <td>5.200000</td>\n",
       "    </tr>\n",
       "  </tbody>\n",
       "</table>\n",
       "</div>"
      ],
      "text/plain": [
       "                      Standard_Time  Work_days       eff\n",
       "Executor                                                \n",
       "chenwenjing1   40796           80.0         42  0.525000\n",
       "guowenwen      73561          150.0        102  0.680000\n",
       "wuzijing      148136          430.0        534  1.241860\n",
       "likalin        58252          210.0        265  1.261905\n",
       "zhuyanchao     13551           25.0         32  1.280000\n",
       "zhangdichang   22695           45.0         72  1.600000\n",
       "xuweiling      64103          165.0        276  1.672727\n",
       "yangli2       136029          295.0        538  1.823729\n",
       "guanhaijiao   346200         1245.0       2363  1.897992\n",
       "laqingpeng    134527          265.0        518  1.954717\n",
       "hejiani       328630         1190.0       2387  2.005882\n",
       "caixiongying  236453          940.0       2291  2.437234\n",
       "zoulijun      210320          860.0       2232  2.595349\n",
       "zhaoyongtian  177092          760.0       2223  2.925000\n",
       "danxu          10574           90.0        274  3.044444\n",
       "zhengyuan      18738           95.0        494  5.200000"
      ]
     },
     "execution_count": 6,
     "metadata": {},
     "output_type": "execute_result"
    }
   ],
   "source": [
    "eff_person = df.groupby('Executor').agg('sum')\n",
    "eff_person['eff'] = eff_person.Work_days / eff_person.Standard_Time\n",
    "eff_person.sort_values('eff')"
   ]
  },
  {
   "cell_type": "markdown",
   "metadata": {},
   "source": [
    "## Work Days boxplot of Persion"
   ]
  },
  {
   "cell_type": "code",
   "execution_count": 478,
   "metadata": {},
   "outputs": [
    {
     "data": {
      "text/plain": [
       "(array([ 0,  1,  2,  3,  4,  5,  6,  7,  8,  9, 10, 11, 12, 13, 14, 15]),\n",
       " <a list of 16 Text xticklabel objects>)"
      ]
     },
     "execution_count": 478,
     "metadata": {},
     "output_type": "execute_result"
    },
    {
     "data": {
      "image/png": "[encoded data removed]",
      "text/plain": [
       "<matplotlib.figure.Figure at 0x1234ad7f0>"
      ]
     },
     "metadata": {},
     "output_type": "display_data"
    }
   ],
   "source": [
    "data = pd.concat([df['Work_days'], df['Executor']], axis=1)\n",
    "f, ax = plt.subplots(figsize=(10, 6))\n",
    "fig = sns.boxplot(x='Executor', y=\"Work_days\", data=data)\n",
    "fig.axis(ymin=-10, ymax=80)\n",
    "plt.xticks(rotation=60, size=13)"
   ]
  },
  {
   "cell_type": "code",
   "execution_count": 479,
   "metadata": {},
   "outputs": [
    {
     "data": {
      "text/plain": [
       "0.017117117117117116"
      ]
     },
     "execution_count": 479,
     "metadata": {},
     "output_type": "execute_result"
    }
   ],
   "source": [
    "(df['Work_days'] < 0).mean()"
   ]
  },
  {
   "cell_type": "markdown",
   "metadata": {},
   "source": [
    "### 下机时间的大量缺失是造成项目执行时间出现一些奇怪的值以致于使得统计较为困难的一个原因\n",
    "\n",
    "**从以上可以看出有很多一些项目执行时间小于0，大概占1.7%  \n",
    "这种情况可能是后续又更新了方案再次分析，所以也认为是交付合格。**"
   ]
  },
  {
   "cell_type": "markdown",
   "metadata": {},
   "source": [
    "## 只过滤，标准项目每月交付率"
   ]
  },
  {
   "cell_type": "code",
   "execution_count": 7,
   "metadata": {},
   "outputs": [
    {
     "name": "stdout",
     "output_type": "stream",
     "text": [
      "只过滤6，7，8月交付率\n"
     ]
    },
    {
     "data": {
      "text/html": [
       "<div>\n",
       "<style>\n",
       "    .dataframe thead tr:only-child th {\n",
       "        text-align: right;\n",
       "    }\n",
       "\n",
       "    .dataframe thead th {\n",
       "        text-align: left;\n",
       "    }\n",
       "\n",
       "    .dataframe tbody tr th {\n",
       "        vertical-align: top;\n",
       "    }\n",
       "</style>\n",
       "<table border=\"1\" class=\"dataframe\">\n",
       "  <thead>\n",
       "    <tr style=\"text-align: right;\">\n",
       "      <th></th>\n",
       "      <th></th>\n",
       "      <th>Standard_Time</th>\n",
       "      <th>Work_days</th>\n",
       "      <th>DR</th>\n",
       "    </tr>\n",
       "    <tr>\n",
       "      <th>End_Time</th>\n",
       "      <th></th>\n",
       "      <th></th>\n",
       "      <th></th>\n",
       "      <th></th>\n",
       "    </tr>\n",
       "  </thead>\n",
       "  <tbody>\n",
       "    <tr>\n",
       "      <th>2017-06</th>\n",
       "      <td>1214.254054</td>\n",
       "      <td>5.0</td>\n",
       "      <td>6.810811</td>\n",
       "      <td>0.524324</td>\n",
       "    </tr>\n",
       "    <tr>\n",
       "      <th>2017-07</th>\n",
       "      <td>2112.604762</td>\n",
       "      <td>5.0</td>\n",
       "      <td>7.404762</td>\n",
       "      <td>0.561905</td>\n",
       "    </tr>\n",
       "    <tr>\n",
       "      <th>2017-08</th>\n",
       "      <td>2673.597561</td>\n",
       "      <td>5.0</td>\n",
       "      <td>4.963415</td>\n",
       "      <td>0.682927</td>\n",
       "    </tr>\n",
       "  </tbody>\n",
       "</table>\n",
       "</div>"
      ],
      "text/plain": [
       "                       Standard_Time  Work_days        DR\n",
       "End_Time                                                 \n",
       "2017-06   1214.254054            5.0   6.810811  0.524324\n",
       "2017-07   2112.604762            5.0   7.404762  0.561905\n",
       "2017-08   2673.597561            5.0   4.963415  0.682927"
      ]
     },
     "execution_count": 7,
     "metadata": {},
     "output_type": "execute_result"
    }
   ],
   "source": [
    "df_period = df.set_index('End_Time')['2017-06':'2017-08']\n",
    "df_period['DR'] = (df_period['Work_days'] <= df_period['Standard_Time'])\n",
    "#df_period.head()\n",
    "period_filter_only = df_period[df_period['Analysis_Type'] == '纯过滤'].resample('M')\n",
    "period_std_pgj = df_period[df_period['Analysis_Type'] != '纯过滤'].resample('M')\n",
    "print(\"只过滤6，7，8月交付率\")\n",
    "period_filter_only.mean().to_period('M')"
   ]
  },
  {
   "cell_type": "code",
   "execution_count": 8,
   "metadata": {},
   "outputs": [
    {
     "name": "stdout",
     "output_type": "stream",
     "text": [
      "标准项目6，7，8月交付率\n"
     ]
    },
    {
     "data": {
      "text/html": [
       "<div>\n",
       "<style>\n",
       "    .dataframe thead tr:only-child th {\n",
       "        text-align: right;\n",
       "    }\n",
       "\n",
       "    .dataframe thead th {\n",
       "        text-align: left;\n",
       "    }\n",
       "\n",
       "    .dataframe tbody tr th {\n",
       "        vertical-align: top;\n",
       "    }\n",
       "</style>\n",
       "<table border=\"1\" class=\"dataframe\">\n",
       "  <thead>\n",
       "    <tr style=\"text-align: right;\">\n",
       "      <th></th>\n",
       "      <th></th>\n",
       "      <th>Standard_Time</th>\n",
       "      <th>Work_days</th>\n",
       "      <th>DR</th>\n",
       "    </tr>\n",
       "    <tr>\n",
       "      <th>End_Time</th>\n",
       "      <th></th>\n",
       "      <th></th>\n",
       "      <th></th>\n",
       "      <th></th>\n",
       "    </tr>\n",
       "  </thead>\n",
       "  <tbody>\n",
       "    <tr>\n",
       "      <th>2017-06</th>\n",
       "      <td>1158.318584</td>\n",
       "      <td>6.592920</td>\n",
       "      <td>17.172566</td>\n",
       "      <td>0.305310</td>\n",
       "    </tr>\n",
       "    <tr>\n",
       "      <th>2017-07</th>\n",
       "      <td>1946.795276</td>\n",
       "      <td>7.047244</td>\n",
       "      <td>18.220472</td>\n",
       "      <td>0.208661</td>\n",
       "    </tr>\n",
       "    <tr>\n",
       "      <th>2017-08</th>\n",
       "      <td>2456.679739</td>\n",
       "      <td>7.712418</td>\n",
       "      <td>19.032680</td>\n",
       "      <td>0.300654</td>\n",
       "    </tr>\n",
       "  </tbody>\n",
       "</table>\n",
       "</div>"
      ],
      "text/plain": [
       "                       Standard_Time  Work_days        DR\n",
       "End_Time                                                 \n",
       "2017-06   1158.318584       6.592920  17.172566  0.305310\n",
       "2017-07   1946.795276       7.047244  18.220472  0.208661\n",
       "2017-08   2456.679739       7.712418  19.032680  0.300654"
      ]
     },
     "execution_count": 8,
     "metadata": {},
     "output_type": "execute_result"
    }
   ],
   "source": [
    "print(\"标准项目6，7，8月交付率\")\n",
    "period_std_pgj.mean().to_period('M')"
   ]
  },
  {
   "cell_type": "markdown",
   "metadata": {},
   "source": [
    "## 每人每月交付率"
   ]
  },
  {
   "cell_type": "code",
   "execution_count": 12,
   "metadata": {},
   "outputs": [
    {
     "data": {
      "text/html": [
       "<div>\n",
       "<style>\n",
       "    .dataframe thead tr:only-child th {\n",
       "        text-align: right;\n",
       "    }\n",
       "\n",
       "    .dataframe thead th {\n",
       "        text-align: left;\n",
       "    }\n",
       "\n",
       "    .dataframe tbody tr th {\n",
       "        vertical-align: top;\n",
       "    }\n",
       "</style>\n",
       "<table border=\"1\" class=\"dataframe\">\n",
       "  <thead>\n",
       "    <tr style=\"text-align: right;\">\n",
       "      <th></th>\n",
       "      <th></th>\n",
       "      <th></th>\n",
       "      <th>Standard_Time</th>\n",
       "      <th>Work_days</th>\n",
       "      <th>DR</th>\n",
       "    </tr>\n",
       "    <tr>\n",
       "      <th>Executor</th>\n",
       "      <th>End_Time</th>\n",
       "      <th></th>\n",
       "      <th></th>\n",
       "      <th></th>\n",
       "      <th></th>\n",
       "    </tr>\n",
       "  </thead>\n",
       "  <tbody>\n",
       "    <tr>\n",
       "      <th rowspan=\"3\" valign=\"top\">caixiongying</th>\n",
       "      <th>2017-06-01</th>\n",
       "      <td>1181.954545</td>\n",
       "      <td>6.590909</td>\n",
       "      <td>15.477273</td>\n",
       "      <td>0.318182</td>\n",
       "    </tr>\n",
       "    <tr>\n",
       "      <th>2017-07-01</th>\n",
       "      <td>1975.431373</td>\n",
       "      <td>7.549020</td>\n",
       "      <td>19.568627</td>\n",
       "      <td>0.176471</td>\n",
       "    </tr>\n",
       "    <tr>\n",
       "      <th>2017-08-01</th>\n",
       "      <td>2391.428571</td>\n",
       "      <td>7.571429</td>\n",
       "      <td>17.485714</td>\n",
       "      <td>0.485714</td>\n",
       "    </tr>\n",
       "    <tr>\n",
       "      <th rowspan=\"2\" valign=\"top\">chenwenjing1</th>\n",
       "      <th>2017-07-01</th>\n",
       "      <td>2392.666667</td>\n",
       "      <td>5.000000</td>\n",
       "      <td>3.000000</td>\n",
       "      <td>1.000000</td>\n",
       "    </tr>\n",
       "    <tr>\n",
       "      <th>2017-08-01</th>\n",
       "      <td>2586.000000</td>\n",
       "      <td>5.000000</td>\n",
       "      <td>2.538462</td>\n",
       "      <td>0.923077</td>\n",
       "    </tr>\n",
       "    <tr>\n",
       "      <th>danxu</th>\n",
       "      <th>2017-06-01</th>\n",
       "      <td>961.272727</td>\n",
       "      <td>8.181818</td>\n",
       "      <td>24.909091</td>\n",
       "      <td>0.272727</td>\n",
       "    </tr>\n",
       "    <tr>\n",
       "      <th rowspan=\"3\" valign=\"top\">guanhaijiao</th>\n",
       "      <th>2017-06-01</th>\n",
       "      <td>1228.423913</td>\n",
       "      <td>5.652174</td>\n",
       "      <td>11.054348</td>\n",
       "      <td>0.565217</td>\n",
       "    </tr>\n",
       "    <tr>\n",
       "      <th>2017-07-01</th>\n",
       "      <td>2059.623377</td>\n",
       "      <td>6.428571</td>\n",
       "      <td>12.155844</td>\n",
       "      <td>0.454545</td>\n",
       "    </tr>\n",
       "    <tr>\n",
       "      <th>2017-08-01</th>\n",
       "      <td>2572.206897</td>\n",
       "      <td>7.931034</td>\n",
       "      <td>14.137931</td>\n",
       "      <td>0.413793</td>\n",
       "    </tr>\n",
       "    <tr>\n",
       "      <th rowspan=\"2\" valign=\"top\">guowenwen</th>\n",
       "      <th>2017-07-01</th>\n",
       "      <td>2263.100000</td>\n",
       "      <td>5.000000</td>\n",
       "      <td>2.750000</td>\n",
       "      <td>0.850000</td>\n",
       "    </tr>\n",
       "    <tr>\n",
       "      <th>2017-08-01</th>\n",
       "      <td>2829.900000</td>\n",
       "      <td>5.000000</td>\n",
       "      <td>4.700000</td>\n",
       "      <td>0.700000</td>\n",
       "    </tr>\n",
       "    <tr>\n",
       "      <th rowspan=\"3\" valign=\"top\">hejiani</th>\n",
       "      <th>2017-06-01</th>\n",
       "      <td>1068.291139</td>\n",
       "      <td>5.822785</td>\n",
       "      <td>10.253165</td>\n",
       "      <td>0.455696</td>\n",
       "    </tr>\n",
       "    <tr>\n",
       "      <th>2017-07-01</th>\n",
       "      <td>1875.189189</td>\n",
       "      <td>5.945946</td>\n",
       "      <td>12.864865</td>\n",
       "      <td>0.472973</td>\n",
       "    </tr>\n",
       "    <tr>\n",
       "      <th>2017-08-01</th>\n",
       "      <td>2511.214286</td>\n",
       "      <td>6.904762</td>\n",
       "      <td>14.880952</td>\n",
       "      <td>0.380952</td>\n",
       "    </tr>\n",
       "    <tr>\n",
       "      <th rowspan=\"2\" valign=\"top\">laqingpeng</th>\n",
       "      <th>2017-07-01</th>\n",
       "      <td>2466.333333</td>\n",
       "      <td>5.000000</td>\n",
       "      <td>8.433333</td>\n",
       "      <td>0.300000</td>\n",
       "    </tr>\n",
       "    <tr>\n",
       "      <th>2017-08-01</th>\n",
       "      <td>2632.043478</td>\n",
       "      <td>5.000000</td>\n",
       "      <td>11.521739</td>\n",
       "      <td>0.173913</td>\n",
       "    </tr>\n",
       "    <tr>\n",
       "      <th rowspan=\"2\" valign=\"top\">likalin</th>\n",
       "      <th>2017-06-01</th>\n",
       "      <td>1273.000000</td>\n",
       "      <td>5.000000</td>\n",
       "      <td>5.303030</td>\n",
       "      <td>0.424242</td>\n",
       "    </tr>\n",
       "    <tr>\n",
       "      <th>2017-07-01</th>\n",
       "      <td>1804.777778</td>\n",
       "      <td>5.000000</td>\n",
       "      <td>10.000000</td>\n",
       "      <td>0.000000</td>\n",
       "    </tr>\n",
       "    <tr>\n",
       "      <th rowspan=\"3\" valign=\"top\">wuzijing</th>\n",
       "      <th>2017-06-01</th>\n",
       "      <td>1305.904762</td>\n",
       "      <td>5.119048</td>\n",
       "      <td>6.928571</td>\n",
       "      <td>0.476190</td>\n",
       "    </tr>\n",
       "    <tr>\n",
       "      <th>2017-07-01</th>\n",
       "      <td>2072.189189</td>\n",
       "      <td>5.000000</td>\n",
       "      <td>5.702703</td>\n",
       "      <td>0.621622</td>\n",
       "    </tr>\n",
       "    <tr>\n",
       "      <th>2017-08-01</th>\n",
       "      <td>2769.500000</td>\n",
       "      <td>5.000000</td>\n",
       "      <td>5.333333</td>\n",
       "      <td>0.500000</td>\n",
       "    </tr>\n",
       "    <tr>\n",
       "      <th rowspan=\"3\" valign=\"top\">xuweiling</th>\n",
       "      <th>2017-06-01</th>\n",
       "      <td>954.666667</td>\n",
       "      <td>5.000000</td>\n",
       "      <td>9.333333</td>\n",
       "      <td>0.166667</td>\n",
       "    </tr>\n",
       "    <tr>\n",
       "      <th>2017-07-01</th>\n",
       "      <td>2058.166667</td>\n",
       "      <td>5.000000</td>\n",
       "      <td>8.875000</td>\n",
       "      <td>0.625000</td>\n",
       "    </tr>\n",
       "    <tr>\n",
       "      <th>2017-08-01</th>\n",
       "      <td>2993.000000</td>\n",
       "      <td>5.000000</td>\n",
       "      <td>2.333333</td>\n",
       "      <td>1.000000</td>\n",
       "    </tr>\n",
       "    <tr>\n",
       "      <th rowspan=\"2\" valign=\"top\">yangli2</th>\n",
       "      <th>2017-07-01</th>\n",
       "      <td>2226.279070</td>\n",
       "      <td>5.116279</td>\n",
       "      <td>11.162791</td>\n",
       "      <td>0.232558</td>\n",
       "    </tr>\n",
       "    <tr>\n",
       "      <th>2017-08-01</th>\n",
       "      <td>2686.600000</td>\n",
       "      <td>5.000000</td>\n",
       "      <td>3.866667</td>\n",
       "      <td>0.800000</td>\n",
       "    </tr>\n",
       "    <tr>\n",
       "      <th rowspan=\"2\" valign=\"top\">zhangdichang</th>\n",
       "      <th>2017-07-01</th>\n",
       "      <td>2579.500000</td>\n",
       "      <td>5.000000</td>\n",
       "      <td>9.000000</td>\n",
       "      <td>0.000000</td>\n",
       "    </tr>\n",
       "    <tr>\n",
       "      <th>2017-08-01</th>\n",
       "      <td>2505.142857</td>\n",
       "      <td>5.000000</td>\n",
       "      <td>7.714286</td>\n",
       "      <td>0.428571</td>\n",
       "    </tr>\n",
       "    <tr>\n",
       "      <th rowspan=\"3\" valign=\"top\">zhaoyongtian</th>\n",
       "      <th>2017-06-01</th>\n",
       "      <td>1222.886364</td>\n",
       "      <td>6.363636</td>\n",
       "      <td>16.795455</td>\n",
       "      <td>0.204545</td>\n",
       "    </tr>\n",
       "    <tr>\n",
       "      <th>2017-07-01</th>\n",
       "      <td>1691.347826</td>\n",
       "      <td>6.956522</td>\n",
       "      <td>21.000000</td>\n",
       "      <td>0.086957</td>\n",
       "    </tr>\n",
       "    <tr>\n",
       "      <th>2017-08-01</th>\n",
       "      <td>2165.857143</td>\n",
       "      <td>7.619048</td>\n",
       "      <td>24.666667</td>\n",
       "      <td>0.285714</td>\n",
       "    </tr>\n",
       "    <tr>\n",
       "      <th rowspan=\"2\" valign=\"top\">zhengyuan</th>\n",
       "      <th>2017-06-01</th>\n",
       "      <td>1063.812500</td>\n",
       "      <td>5.000000</td>\n",
       "      <td>16.687500</td>\n",
       "      <td>0.125000</td>\n",
       "    </tr>\n",
       "    <tr>\n",
       "      <th>2017-07-01</th>\n",
       "      <td>572.333333</td>\n",
       "      <td>5.000000</td>\n",
       "      <td>75.666667</td>\n",
       "      <td>0.000000</td>\n",
       "    </tr>\n",
       "    <tr>\n",
       "      <th>zhuyanchao</th>\n",
       "      <th>2017-08-01</th>\n",
       "      <td>2710.200000</td>\n",
       "      <td>5.000000</td>\n",
       "      <td>6.400000</td>\n",
       "      <td>0.400000</td>\n",
       "    </tr>\n",
       "    <tr>\n",
       "      <th rowspan=\"3\" valign=\"top\">zoulijun</th>\n",
       "      <th>2017-06-01</th>\n",
       "      <td>1204.863636</td>\n",
       "      <td>6.477273</td>\n",
       "      <td>18.886364</td>\n",
       "      <td>0.340909</td>\n",
       "    </tr>\n",
       "    <tr>\n",
       "      <th>2017-07-01</th>\n",
       "      <td>2019.622222</td>\n",
       "      <td>7.555556</td>\n",
       "      <td>17.222222</td>\n",
       "      <td>0.244444</td>\n",
       "    </tr>\n",
       "    <tr>\n",
       "      <th>2017-08-01</th>\n",
       "      <td>2554.730769</td>\n",
       "      <td>9.038462</td>\n",
       "      <td>24.076923</td>\n",
       "      <td>0.192308</td>\n",
       "    </tr>\n",
       "  </tbody>\n",
       "</table>\n",
       "</div>"
      ],
      "text/plain": [
       "                                      Standard_Time  Work_days        DR\n",
       "Executor     End_Time                                                   \n",
       "caixiongying 2017-06-01  1181.954545       6.590909  15.477273  0.318182\n",
       "             2017-07-01  1975.431373       7.549020  19.568627  0.176471\n",
       "             2017-08-01  2391.428571       7.571429  17.485714  0.485714\n",
       "chenwenjing1 2017-07-01  2392.666667       5.000000   3.000000  1.000000\n",
       "             2017-08-01  2586.000000       5.000000   2.538462  0.923077\n",
       "danxu        2017-06-01   961.272727       8.181818  24.909091  0.272727\n",
       "guanhaijiao  2017-06-01  1228.423913       5.652174  11.054348  0.565217\n",
       "             2017-07-01  2059.623377       6.428571  12.155844  0.454545\n",
       "             2017-08-01  2572.206897       7.931034  14.137931  0.413793\n",
       "guowenwen    2017-07-01  2263.100000       5.000000   2.750000  0.850000\n",
       "             2017-08-01  2829.900000       5.000000   4.700000  0.700000\n",
       "hejiani      2017-06-01  1068.291139       5.822785  10.253165  0.455696\n",
       "             2017-07-01  1875.189189       5.945946  12.864865  0.472973\n",
       "             2017-08-01  2511.214286       6.904762  14.880952  0.380952\n",
       "laqingpeng   2017-07-01  2466.333333       5.000000   8.433333  0.300000\n",
       "             2017-08-01  2632.043478       5.000000  11.521739  0.173913\n",
       "likalin      2017-06-01  1273.000000       5.000000   5.303030  0.424242\n",
       "             2017-07-01  1804.777778       5.000000  10.000000  0.000000\n",
       "wuzijing     2017-06-01  1305.904762       5.119048   6.928571  0.476190\n",
       "             2017-07-01  2072.189189       5.000000   5.702703  0.621622\n",
       "             2017-08-01  2769.500000       5.000000   5.333333  0.500000\n",
       "xuweiling    2017-06-01   954.666667       5.000000   9.333333  0.166667\n",
       "             2017-07-01  2058.166667       5.000000   8.875000  0.625000\n",
       "             2017-08-01  2993.000000       5.000000   2.333333  1.000000\n",
       "yangli2      2017-07-01  2226.279070       5.116279  11.162791  0.232558\n",
       "             2017-08-01  2686.600000       5.000000   3.866667  0.800000\n",
       "zhangdichang 2017-07-01  2579.500000       5.000000   9.000000  0.000000\n",
       "             2017-08-01  2505.142857       5.000000   7.714286  0.428571\n",
       "zhaoyongtian 2017-06-01  1222.886364       6.363636  16.795455  0.204545\n",
       "             2017-07-01  1691.347826       6.956522  21.000000  0.086957\n",
       "             2017-08-01  2165.857143       7.619048  24.666667  0.285714\n",
       "zhengyuan    2017-06-01  1063.812500       5.000000  16.687500  0.125000\n",
       "             2017-07-01   572.333333       5.000000  75.666667  0.000000\n",
       "zhuyanchao   2017-08-01  2710.200000       5.000000   6.400000  0.400000\n",
       "zoulijun     2017-06-01  1204.863636       6.477273  18.886364  0.340909\n",
       "             2017-07-01  2019.622222       7.555556  17.222222  0.244444\n",
       "             2017-08-01  2554.730769       9.038462  24.076923  0.192308"
      ]
     },
     "execution_count": 12,
     "metadata": {},
     "output_type": "execute_result"
    }
   ],
   "source": [
    "df_person = df_period.groupby('Executor')\n",
    "df_person.resample('MS').mean()"
   ]
  },
  {
   "cell_type": "markdown",
   "metadata": {},
   "source": [
    "# 每种项目类型的交付率"
   ]
  },
  {
   "cell_type": "code",
   "execution_count": 40,
   "metadata": {},
   "outputs": [
    {
     "data": {
      "text/html": [
       "<div>\n",
       "<style>\n",
       "    .dataframe thead tr:only-child th {\n",
       "        text-align: right;\n",
       "    }\n",
       "\n",
       "    .dataframe thead th {\n",
       "        text-align: left;\n",
       "    }\n",
       "\n",
       "    .dataframe tbody tr th {\n",
       "        vertical-align: top;\n",
       "    }\n",
       "</style>\n",
       "<table border=\"1\" class=\"dataframe\">\n",
       "  <thead>\n",
       "    <tr style=\"text-align: right;\">\n",
       "      <th></th>\n",
       "      <th></th>\n",
       "      <th></th>\n",
       "      <th>Standard_Time</th>\n",
       "      <th>Work_days</th>\n",
       "      <th>DR</th>\n",
       "    </tr>\n",
       "    <tr>\n",
       "      <th>Prj_Type</th>\n",
       "      <th>End_Time</th>\n",
       "      <th></th>\n",
       "      <th></th>\n",
       "      <th></th>\n",
       "      <th></th>\n",
       "    </tr>\n",
       "  </thead>\n",
       "  <tbody>\n",
       "    <tr>\n",
       "      <th rowspan=\"3\" valign=\"top\">Eukaryote Transcriptome Resequencing</th>\n",
       "      <th>2017-06-01</th>\n",
       "      <td>994.854167</td>\n",
       "      <td>10.0</td>\n",
       "      <td>21.333333</td>\n",
       "      <td>0.291667</td>\n",
       "    </tr>\n",
       "    <tr>\n",
       "      <th>2017-07-01</th>\n",
       "      <td>1735.314286</td>\n",
       "      <td>10.0</td>\n",
       "      <td>24.085714</td>\n",
       "      <td>0.242857</td>\n",
       "    </tr>\n",
       "    <tr>\n",
       "      <th>2017-08-01</th>\n",
       "      <td>2373.078431</td>\n",
       "      <td>10.0</td>\n",
       "      <td>22.000000</td>\n",
       "      <td>0.254902</td>\n",
       "    </tr>\n",
       "    <tr>\n",
       "      <th rowspan=\"3\" valign=\"top\">Eukaryote de novo Transcriptome</th>\n",
       "      <th>2017-06-01</th>\n",
       "      <td>846.956522</td>\n",
       "      <td>10.0</td>\n",
       "      <td>24.826087</td>\n",
       "      <td>0.347826</td>\n",
       "    </tr>\n",
       "    <tr>\n",
       "      <th>2017-07-01</th>\n",
       "      <td>1563.794118</td>\n",
       "      <td>10.0</td>\n",
       "      <td>24.735294</td>\n",
       "      <td>0.088235</td>\n",
       "    </tr>\n",
       "    <tr>\n",
       "      <th>2017-08-01</th>\n",
       "      <td>2277.156250</td>\n",
       "      <td>10.0</td>\n",
       "      <td>28.218750</td>\n",
       "      <td>0.218750</td>\n",
       "    </tr>\n",
       "    <tr>\n",
       "      <th rowspan=\"3\" valign=\"top\">RNA-Seq</th>\n",
       "      <th>2017-06-01</th>\n",
       "      <td>1256.136364</td>\n",
       "      <td>5.0</td>\n",
       "      <td>14.597403</td>\n",
       "      <td>0.305195</td>\n",
       "    </tr>\n",
       "    <tr>\n",
       "      <th>2017-07-01</th>\n",
       "      <td>2126.536913</td>\n",
       "      <td>5.0</td>\n",
       "      <td>14.046980</td>\n",
       "      <td>0.221477</td>\n",
       "    </tr>\n",
       "    <tr>\n",
       "      <th>2017-08-01</th>\n",
       "      <td>2599.657143</td>\n",
       "      <td>5.0</td>\n",
       "      <td>12.671429</td>\n",
       "      <td>0.371429</td>\n",
       "    </tr>\n",
       "  </tbody>\n",
       "</table>\n",
       "</div>"
      ],
      "text/plain": [
       "                                                              Standard_Time  \\\n",
       "Prj_Type                             End_Time                                 \n",
       "Eukaryote Transcriptome Resequencing 2017-06-01   994.854167           10.0   \n",
       "                                     2017-07-01  1735.314286           10.0   \n",
       "                                     2017-08-01  2373.078431           10.0   \n",
       "Eukaryote de novo Transcriptome      2017-06-01   846.956522           10.0   \n",
       "                                     2017-07-01  1563.794118           10.0   \n",
       "                                     2017-08-01  2277.156250           10.0   \n",
       "RNA-Seq                              2017-06-01  1256.136364            5.0   \n",
       "                                     2017-07-01  2126.536913            5.0   \n",
       "                                     2017-08-01  2599.657143            5.0   \n",
       "\n",
       "                                                 Work_days        DR  \n",
       "Prj_Type                             End_Time                         \n",
       "Eukaryote Transcriptome Resequencing 2017-06-01  21.333333  0.291667  \n",
       "                                     2017-07-01  24.085714  0.242857  \n",
       "                                     2017-08-01  22.000000  0.254902  \n",
       "Eukaryote de novo Transcriptome      2017-06-01  24.826087  0.347826  \n",
       "                                     2017-07-01  24.735294  0.088235  \n",
       "                                     2017-08-01  28.218750  0.218750  \n",
       "RNA-Seq                              2017-06-01  14.597403  0.305195  \n",
       "                                     2017-07-01  14.046980  0.221477  \n",
       "                                     2017-08-01  12.671429  0.371429  "
      ]
     },
     "execution_count": 40,
     "metadata": {},
     "output_type": "execute_result"
    }
   ],
   "source": [
    "df_prj_type = df_period[df_period['Analysis_Type'] != '纯过滤']\n",
    "df_prj_type = df_prj_type[(df_prj_type.Prj_Type == 'RNA-Seq') | (df_prj_type.Prj_Type == 'Eukaryote Transcriptome Resequencing') | (df_prj_type.Prj_Type == 'Eukaryote de novo Transcriptome')]\n",
    "df_prj_type = df_prj_type.groupby('Prj_Type')\n",
    "df_prj_type.resample('MS').mean()"
   ]
  },
  {
   "cell_type": "code",
   "execution_count": 335,
   "metadata": {},
   "outputs": [
    {
     "data": {
      "image/png": "[encoded data removed]",
      "text/plain": [
       "<matplotlib.figure.Figure at 0x12149a358>"
      ]
     },
     "metadata": {},
     "output_type": "display_data"
    },
    {
     "data": {
      "image/png": "[encoded data removed]",
      "text/plain": [
       "<matplotlib.figure.Figure at 0x12149afd0>"
      ]
     },
     "metadata": {},
     "output_type": "display_data"
    }
   ],
   "source": [
    "# Histogram and normal probability plot\n",
    "sns.distplot(df['Work_days'], fit=norm)\n",
    "fig = plt.figure()\n",
    "res = stats.probplot(df['Work_days'], plot=plt)"
   ]
  },
  {
   "cell_type": "markdown",
   "metadata": {},
   "source": [
    "### Work Days absolutely not normal\n",
    "### Do some normalization"
   ]
  },
  {
   "cell_type": "code",
   "execution_count": 336,
   "metadata": {},
   "outputs": [
    {
     "name": "stdout",
     "output_type": "stream",
     "text": [
      "Skewness: 4.005977\n",
      "Kurtosis: 28.008099\n"
     ]
    }
   ],
   "source": [
    "#skewness and kurtosis\n",
    "print(\"Skewness: %f\" % dd.skew())\n",
    "print(\"Kurtosis: %f\" % dd.kurt())"
   ]
  },
  {
   "cell_type": "code",
   "execution_count": 337,
   "metadata": {
    "collapsed": true
   },
   "outputs": [],
   "source": [
    "# Normalization\n",
    "dd = dd[dd>0]\n",
    "dd = np.log(dd)"
   ]
  },
  {
   "cell_type": "code",
   "execution_count": 338,
   "metadata": {},
   "outputs": [
    {
     "data": {
      "image/png": "[encoded data removed]",
      "text/plain": [
       "<matplotlib.figure.Figure at 0x121fb7a58>"
      ]
     },
     "metadata": {},
     "output_type": "display_data"
    },
    {
     "data": {
      "image/png": "[encoded data removed]",
      "text/plain": [
       "<matplotlib.figure.Figure at 0x121fb7048>"
      ]
     },
     "metadata": {},
     "output_type": "display_data"
    }
   ],
   "source": [
    "sns.distplot(dd, fit=norm)\n",
    "fig = plt.figure()\n",
    "res = stats.probplot(dd, plot=plt)"
   ]
  },
  {
   "cell_type": "markdown",
   "metadata": {},
   "source": [
    "### Much Normaler"
   ]
  },
  {
   "cell_type": "code",
   "execution_count": null,
   "metadata": {
    "collapsed": true
   },
   "outputs": [],
   "source": []
  }
 ],
 "metadata": {
  "kernelspec": {
   "display_name": "Python 3",
   "language": "python",
   "name": "python3"
  },
  "language_info": {
   "codemirror_mode": {
    "name": "ipython",
    "version": 3
   },
   "file_extension": ".py",
   "mimetype": "text/x-python",
   "name": "python",
   "nbconvert_exporter": "python",
   "pygments_lexer": "ipython3",
   "version": "3.6.1"
  },
  "widgets": {
   "application/vnd.jupyter.widget-state+json": {
    "state": {},
    "version_major": 1,
    "version_minor": 0
   }
  }
 },
 "nbformat": 4,
 "nbformat_minor": 2
}
