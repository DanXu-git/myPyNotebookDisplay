{
 "cells": [
  {
   "cell_type": "code",
   "execution_count": 1,
   "metadata": {},
   "outputs": [],
   "source": [
    "%reload_ext autoreload\n",
    "%autoreload 2\n",
    "%matplotlib inline"
   ]
  },
  {
   "cell_type": "code",
   "execution_count": 2,
   "metadata": {},
   "outputs": [],
   "source": [
    "from fastai.text import *"
   ]
  },
  {
   "cell_type": "code",
   "execution_count": 3,
   "metadata": {},
   "outputs": [],
   "source": [
    "class CharTokenizer(BaseTokenizer):\n",
    "    def __init__(self, lang:str):             super().__init__(lang=lang)\n",
    "    def tokenizer(self, t:str) -> List[str]:  return(list(t))\n",
    "    \n",
    "char_tokenize_processor = TokenizeProcessor(tokenizer=Tokenizer(tok_func=CharTokenizer), include_bos=False)"
   ]
  },
  {
   "cell_type": "markdown",
   "metadata": {},
   "source": [
    "# Peptide Language Model"
   ]
  },
  {
   "cell_type": "code",
   "execution_count": 4,
   "metadata": {},
   "outputs": [],
   "source": [
    "path = '/home/danxu/nfs_danxu/python_nbs/DL_Neoantigen'\n",
    "db_path = path + '/data/DL_NeoAntigen/db'\n",
    "m_path = path + '/models'\n",
    "\n",
    "bs = 128"
   ]
  },
  {
   "cell_type": "code",
   "execution_count": 30,
   "metadata": {},
   "outputs": [
    {
     "data": {
      "text/html": [],
      "text/plain": [
       "<IPython.core.display.HTML object>"
      ]
     },
     "metadata": {},
     "output_type": "display_data"
    },
    {
     "data": {
      "text/html": [],
      "text/plain": [
       "<IPython.core.display.HTML object>"
      ]
     },
     "metadata": {},
     "output_type": "display_data"
    }
   ],
   "source": [
    "data_lm = (TextList.from_csv(db_path, 'uniprot_sprot.human.csv', cols='pepseq',\n",
    "                               processor=[char_tokenize_processor, NumericalizeProcessor()])\n",
    "                .split_by_rand_pct(0.1)\n",
    "                .label_for_lm()\n",
    "                .databunch(bs=bs))"
   ]
  },
  {
   "cell_type": "code",
   "execution_count": 31,
   "metadata": {},
   "outputs": [],
   "source": [
    "data_lm.save('uniprot_lm.human.pkl')"
   ]
  },
  {
   "cell_type": "code",
   "execution_count": 5,
   "metadata": {},
   "outputs": [],
   "source": [
    "data_lm = load_data(db_path, 'uniprot_lm.human.pkl', bs=bs)"
   ]
  },
  {
   "cell_type": "code",
   "execution_count": 6,
   "metadata": {},
   "outputs": [
    {
     "data": {
      "text/html": [
       "<table border=\"1\" class=\"dataframe\">\n",
       "  <thead>\n",
       "    <tr style=\"text-align: right;\">\n",
       "      <th>idx</th>\n",
       "      <th>text</th>\n",
       "    </tr>\n",
       "  </thead>\n",
       "  <tbody>\n",
       "    <tr>\n",
       "      <td>0</td>\n",
       "      <td>t e r n e k k q q m g k e y r e k i e a e l q d i c n d v l e l l d k y l i p n a t q p e s k v f y l k m k g d y f r y l s e v a s g d n k</td>\n",
       "    </tr>\n",
       "    <tr>\n",
       "      <td>1</td>\n",
       "      <td>a r l y y y r d r d w r w v l l r l h k a g a r v k i m d y e d f a y c w e n f v c n e g q p f m p w y k f d d n y a s l h r t l k e i l r</td>\n",
       "    </tr>\n",
       "    <tr>\n",
       "      <td>2</td>\n",
       "      <td>g m i m a a r g s g p r a l r   x x r e p   4   l   v q l v a g r c g l a g a a g g a q r g l s e p s s i a k h e d s l l k d l f q</td>\n",
       "    </tr>\n",
       "    <tr>\n",
       "      <td>3</td>\n",
       "      <td>k w q l t k g l r d v a k s t s s e s g g v s s p g k e e r e q s t r k e n i q t g p r t r s p t i l e t s p r l i r k a l e f m d l s q y</td>\n",
       "    </tr>\n",
       "    <tr>\n",
       "      <td>4</td>\n",
       "      <td>a l p k m k a s k s g v s l p q r d v d p s l s s a t a g g s f q d t e k a s s d g g r g g l g a t a s a t g s e g v n l h r p q v h i p s</td>\n",
       "    </tr>\n",
       "  </tbody>\n",
       "</table>"
      ],
      "text/plain": [
       "<IPython.core.display.HTML object>"
      ]
     },
     "metadata": {},
     "output_type": "display_data"
    }
   ],
   "source": [
    "data_lm.show_batch()"
   ]
  },
  {
   "cell_type": "code",
   "execution_count": 7,
   "metadata": {},
   "outputs": [],
   "source": [
    "learn = language_model_learner(data_lm, AWD_LSTM, drop_mult=0.3, pretrained=False)"
   ]
  },
  {
   "cell_type": "code",
   "execution_count": 17,
   "metadata": {},
   "outputs": [
    {
     "data": {
      "text/html": [
       "\n",
       "    <div>\n",
       "        <style>\n",
       "            /* Turns off some styling */\n",
       "            progress {\n",
       "                /* gets rid of default border in Firefox and Opera. */\n",
       "                border: none;\n",
       "                /* Needs to be in here for Safari polyfill so background images work as expected. */\n",
       "                background-size: auto;\n",
       "            }\n",
       "            .progress-bar-interrupted, .progress-bar-interrupted::-webkit-progress-bar {\n",
       "                background: #F44336;\n",
       "            }\n",
       "        </style>\n",
       "      <progress value='0' class='' max='1' style='width:300px; height:20px; vertical-align: middle;'></progress>\n",
       "      0.00% [0/1 00:00<00:00]\n",
       "    </div>\n",
       "    \n",
       "<table border=\"1\" class=\"dataframe\">\n",
       "  <thead>\n",
       "    <tr style=\"text-align: left;\">\n",
       "      <th>epoch</th>\n",
       "      <th>train_loss</th>\n",
       "      <th>valid_loss</th>\n",
       "      <th>accuracy</th>\n",
       "      <th>time</th>\n",
       "    </tr>\n",
       "  </thead>\n",
       "  <tbody>\n",
       "  </tbody>\n",
       "</table><p>\n",
       "\n",
       "    <div>\n",
       "        <style>\n",
       "            /* Turns off some styling */\n",
       "            progress {\n",
       "                /* gets rid of default border in Firefox and Opera. */\n",
       "                border: none;\n",
       "                /* Needs to be in here for Safari polyfill so background images work as expected. */\n",
       "                background-size: auto;\n",
       "            }\n",
       "            .progress-bar-interrupted, .progress-bar-interrupted::-webkit-progress-bar {\n",
       "                background: #F44336;\n",
       "            }\n",
       "        </style>\n",
       "      <progress value='92' class='' max='1142' style='width:300px; height:20px; vertical-align: middle;'></progress>\n",
       "      8.06% [92/1142 00:10<02:05 8.5716]\n",
       "    </div>\n",
       "    "
      ],
      "text/plain": [
       "<IPython.core.display.HTML object>"
      ]
     },
     "metadata": {},
     "output_type": "display_data"
    },
    {
     "name": "stdout",
     "output_type": "stream",
     "text": [
      "LR Finder is complete, type {learner_name}.recorder.plot() to see the graph.\n"
     ]
    }
   ],
   "source": [
    "learn.lr_find()"
   ]
  },
  {
   "cell_type": "code",
   "execution_count": 18,
   "metadata": {},
   "outputs": [
    {
     "data": {
      "image/png": "[encoded data removed]",
      "text/plain": [
       "<Figure size 432x288 with 1 Axes>"
      ]
     },
     "metadata": {
      "needs_background": "light"
     },
     "output_type": "display_data"
    }
   ],
   "source": [
    "learn.recorder.plot()"
   ]
  },
  {
   "cell_type": "code",
   "execution_count": 10,
   "metadata": {},
   "outputs": [
    {
     "data": {
      "text/html": [
       "<table border=\"1\" class=\"dataframe\">\n",
       "  <thead>\n",
       "    <tr style=\"text-align: left;\">\n",
       "      <th>epoch</th>\n",
       "      <th>train_loss</th>\n",
       "      <th>valid_loss</th>\n",
       "      <th>accuracy</th>\n",
       "      <th>time</th>\n",
       "    </tr>\n",
       "  </thead>\n",
       "  <tbody>\n",
       "    <tr>\n",
       "      <td>0</td>\n",
       "      <td>2.849938</td>\n",
       "      <td>2.856114</td>\n",
       "      <td>0.115403</td>\n",
       "      <td>02:26</td>\n",
       "    </tr>\n",
       "  </tbody>\n",
       "</table>"
      ],
      "text/plain": [
       "<IPython.core.display.HTML object>"
      ]
     },
     "metadata": {},
     "output_type": "display_data"
    }
   ],
   "source": [
    "learn.fit_one_cycle(1, 1e-2, moms=(0.8,0.7))"
   ]
  },
  {
   "cell_type": "code",
   "execution_count": 11,
   "metadata": {},
   "outputs": [],
   "source": [
    "learn.save('/home/danxu/nfs_danxu/python_nbs/DL_Neoantigen/models/uniprot_lm_human_head')"
   ]
  },
  {
   "cell_type": "code",
   "execution_count": 15,
   "metadata": {
    "collapsed": true,
    "jupyter": {
     "outputs_hidden": true
    }
   },
   "outputs": [
    {
     "data": {
      "text/plain": [
       "LanguageLearner(data=TextLMDataBunch;\n",
       "\n",
       "Train: LabelList (18169 items)\n",
       "x: LMTextList\n",
       "m t m d k s e l v q k a k l a e q a e r y d d m a a a m k a v t e q g h e l s n e e r n l l s v a y k n v v g a r r s s w r v i s s i e q k t e r n e k k q q m g k e y r e k i e a e l q d i c n d v l e l l d k y l i p n a t q p e s k v f y l k m k g d y f r y l s e v a s g d n k q t t v s n s q q a y q e a f e i s k k e m q p t h p i r l g l a l n f s v f y y e i l n s p e k a c s l a k t a f d e a i a e l d t l n e e s y k d s t l i m q l l r d n l t l w t s e n q g d e g d a g e g e n,m d d r e d l v y q a k l a e q a e r y d e m v e s m k k v a g m d v e l t v e e r n l l s v a y k n v i g a r r a s w r i i s s i e q k e e n k g g e d k l k m i r e y r q m v e t e l k l i c c d i l d v l d k h l i p a a n t g e s k v f y y k m k g d y h r y l a e f a t g n d r k e a a e n s l v a y k a a s d i a m t e l p p t h p i r l g l a l n f s v f y y e i l n s p d r a c r l a k a a f d d a i a e l d t l s e e s y k d s t l i m q l l r d n l t l w t s d m q g d g e e q n k e a l q d v e d e n q,m g d r e q l l q r a r l a e q a e r y d d m a s a m k a v t e l n e p l s n e d r n l l s v a y k n v v g a r r s s w r v i s s i e q k t m a d g n e k k l e k v k a y r e k i e k e l e t v c n d v l s l l d k f l i k n c n d f q y e s k v f y l k m k g d y y r y l a e v a s g e k k n s v v e a s e a a y k e a f e i s k e q m q p t h p i r l g l a l n f s v f y y e i q n a p e q a c l l a k q a f d d a i a e l d t l n e d s y k d s t l i m q l l r d n l t l w t s d q q d e e a g e g n,m v d r e q l v q k a r l a e q a e r y d d m a a a m k n v t e l n e p l s n e e r n l l s v a y k n v v g a r r s s w r v i s s i e q k t s a d g n e k k i e m v r a y r e k i e k e l e a v c q d v l s l l d n y l i k n c s e t q y e s k v f y l k m k g d y y r y l a e v a t g e k r a t v v e s s e k a y s e a h e i s k e h m q p t h p i r l g l a l n y s v f y y e i q n a p e q a c h l a k t a f d d a i a e l d t l n e d s y k d s t l i m q l l r d n l t l w t s d q q d d d g g e g n n,m e r a s l i q k a k l a e q a e r y e d m a a f m k g a v e k g e e l s c e e r n l l s v a y k n v v g g q r a a w r v l s s i e q k s n e e g s e e k g p e v r e y r e k v e t e l q g v c d t v l g l l d s h l i k e a g d a e s r v f y l k m k g d y y r y l a e v a t g d d k k r i i d s a r s a y q e a m d i s k k e m p p t n p i r l g l a l n f s v f h y e i a n s p e e a i s l a k t t f d e a m a d l h t l s e d s y k d s t l i m q l l r d n l t l w t a d n a g e e g g e a p q e p q s\n",
       "y: LMLabelList\n",
       ",,,,\n",
       "Path: /home/danxu/nfs_danxu/python_nbs/DL_Neoantigen/data/DL_NeoAntigen/db;\n",
       "\n",
       "Valid: LabelList (2018 items)\n",
       "x: LMTextList\n",
       "m q s n k t f n l e k q n h t p r k h h q h h h q q q h h   x x r e p   6   q   x x r e p   5   p   i p a n g q q a s s q n e g l t i d l k n f r k p g e k t f t q r s r l f v g n l p p d i t e e e m r k l f e k y g k a g e v f i h k d k g f g f i r l e t r t l a e i a k v e l d n m p l r g k q l r v r f a c h s a s l t v r n l p q y v s n e l l e e a f s v f g q v e r a v v i v d d r g r p s g k g i v e f s g k p a a r k a l d r c s e g s f l l t t f p r p v t v e p m d q l d d e e g l p e k l v i k n q q f h k e r e q p p r f a q p g s f e y e y a m r w k a l i e m e k q q q d q v d r n i k e a r e k l e m e m e a a r h e h q v m l m r q d l m r r q e e l r r m e e l h n q e v q k r k q l e l r q e e e   x x r e p   4   r   e e e m r r q q e e m m r r q q e g f k g t f p d a r e q e i r m g q m a m g g a m g i n n r g a m p p a p v p a g t p a p p g p a t m m p d g t l g l t p p t t e r f g q a a t m e g i g a i g g t p p a f n r a a p g a e f a p n k r r r y,m a n s s f i g d h v h g a p h a v m p e v e f p d q f f t v l t m d h e l v t l r d v v i n f s q e e w e y l d s a q r n l y w d v m m e n y s n l l s l d l e s r n e t k h l s v g k d i i q n t g s q w e v m e s s k l c g l e g s i f r n d w q s k s k i d l q g p e v g y f s q m k i i s e n v p s y k t h e s l t l p r r t h d s e k p y e y k e y e k v f s c d l e f d e y q k i h t g g k n y e c n q c w k t f g i d n s s m l q l n i h t g v k p c k y m e y g n t c s f y k d f n v y q k i h n e k f y k c k e y r r t f e r v g k v t p l q r v h d g e k h f e c s f c g k s f r v h a q l t r h q k i h t d e k t y k c m e c g k d f r f h s q l t e h q r i h t g e k p y k c m h c e k v f r i s s q l i e h q r i h t g e k p y a c k e c g k a f g v c r e l a r h q r i h t g k k p y e c k a c g k v f r n s s s l t r h q r i h t g e k p y k c k e c e k a f g v g s e l t r h e r i h s g q k p y e c k e c g k f f r l t s a l i q h q r i h s g e k p y e c k v c g k a f r h s s a l t e h q r i h t g e k p y e c k a c g k a f r h s s s f t k h q r i h t d d k p y e c k e c g n s f s v v g h l t c q p k i y t g e k s f d,m v c r e q l s k n q v k w v f a g i t c v s v v v i a a i v l a i t l r r p g c e l e a c s p d a d m l d y l l s l g q i s r r d a l e v t w y h a a n s k k a m t a a l n s n i t v l e a d v n v e g l g t a n e t g v p i m a h p p t i y s d n t l e q w l d a v l g s s q k g i k l d f k n i k a v g p s l d l l r q l t e e g k v r r p i w i n a d i l k g p n m l i s t e v n a t q f l a l v q e k y p k a t l s p g w t t f y m s t s p n r t y t q a m v e k m h e l v g g v p q r v t f p v r s s m v r a a w p h f s w l l s q s e r y s l t l w q a a s d p m s v e d l l y v r d n t a v h q v y y d i f e p l l s q f k q l a l n a t r k p m y y t g g s l i p l l q l p g d d g l n v e w l v p d v q g s g k t a t m t l p d t e g m i l l n t g l e g t v a e n p v p i v h t p s g n i l t l e s c l q q l a t h p g h w g i h l q i a e p a a l r p s l a l l a r l s s l g l l h w p v w v g a k i s h g s f s v p g h v a g r e l l t a v a e v f p h v t v a p g w p e e v l g s g y r e q l l t d m l e l c q g l w q p v s f q m q a m l l g h s t a g a i g r l l a s s p r a t v t v e h n p a g g d y a s v r t a l l a a r a v d r t r v y y r l p q g y h k d l l a h v g r n,m p a p i r l r e l i r t i r t a r t q a e e r e m i q k e c a a i r s s f r e e d n t y r c r n v a k l l y m h m l g y p a h f g q l e c l k l i a s q k f t d k r i g y l g a m l l l d e r q d v h l l m t n c i k n d l n h s t q f v q g l a l c t l g c m g s s e m c r d l a g e v e k l l k t s n s y l r k k a a l c a v h v i r k v p e l m e m f l p a t k n l l n e k n h g v l h t s v v l l t e m c e r s p d m l a h f r k l v p q l v r i l k n l i m s g y s p e h d v s g i s d p f l q v r i l r l l r i l g r n d d d s s e a m n d i l a q v a t n t e t s k n v g n a i l y e t v l t i m d i k s e s g l r v l a i n i l g r f l l n n d k n i r y v a l t s l l k t v q t d h n a v q r h r s t i v d c l k d l d v s i k r r a m e l s f a l v n g n n i r g m m k e l l y f l d s c e p e f k a d c a s g i f l a a e k y a p s k r w h i d t i m r v l t t a g s y v r d d a v p n l i q l i t n s v e m h a y t v q r l y k a i l g d y s q q p l v q v a a w c i g e y g d l l v s g q c   x x r e p   4   e   p i q v t e d e v l d i l e s v l i s n m s t s v t r g y a l t a i m k l s t r f t c t v n r i k k v v s i y g s s i d v e l q q r a v e y n a l f k k y d h m r s a l l e r m p v m e k v t t n g p t e i v q t n g e t e p a p l e t k p p p s g p q p t s q a n d l l d l l g g n d i t p v i p t a p t s k p s s a g g e l l d l l g d i n l t g a p a a a p a p a s v p q i s q p p f l l d g l s s q p l f n d i a a g i p s i t a y s k n g l k i e f t f e r s n t n p s v t v i t i q a s n s t e l d m t d f v f q a a v p k t f q l q l l s p s s s i v p a f n t g t i t q v i k v l n p q k q q l r m r i k l t y n h k g s a m q d l a e v n n f p p q s w q,m s y   x x r e p   4   q   c k q p c q p p p v c p t p k c p e p c p p p k c p e p c p s p k c p q p c p p q q c q q k y p p v t p s p p c q p k c p p k s k\n",
       "y: LMLabelList\n",
       ",,,,\n",
       "Path: /home/danxu/nfs_danxu/python_nbs/DL_Neoantigen/data/DL_NeoAntigen/db;\n",
       "\n",
       "Test: None, model=SequentialRNN(\n",
       "  (0): AWD_LSTM(\n",
       "    (encoder): Embedding(48, 400, padding_idx=1)\n",
       "    (encoder_dp): EmbeddingDropout(\n",
       "      (emb): Embedding(48, 400, padding_idx=1)\n",
       "    )\n",
       "    (rnns): ModuleList(\n",
       "      (0): WeightDropout(\n",
       "        (module): LSTM(400, 1152, batch_first=True)\n",
       "      )\n",
       "      (1): WeightDropout(\n",
       "        (module): LSTM(1152, 1152, batch_first=True)\n",
       "      )\n",
       "      (2): WeightDropout(\n",
       "        (module): LSTM(1152, 400, batch_first=True)\n",
       "      )\n",
       "    )\n",
       "    (input_dp): RNNDropout()\n",
       "    (hidden_dps): ModuleList(\n",
       "      (0): RNNDropout()\n",
       "      (1): RNNDropout()\n",
       "      (2): RNNDropout()\n",
       "    )\n",
       "  )\n",
       "  (1): LinearDecoder(\n",
       "    (decoder): Linear(in_features=400, out_features=48, bias=True)\n",
       "    (output_dp): RNNDropout()\n",
       "  )\n",
       "), opt_func=functools.partial(<class 'torch.optim.adam.Adam'>, betas=(0.9, 0.99)), loss_func=FlattenedLoss of CrossEntropyLoss(), metrics=[<function accuracy at 0x7fba5d33f1e0>], true_wd=True, bn_wd=True, wd=0.01, train_bn=True, path=PosixPath('/home/danxu/nfs_danxu/python_nbs/DL_Neoantigen/data/DL_NeoAntigen/db'), model_dir='models', callback_fns=[functools.partial(<class 'fastai.basic_train.Recorder'>, add_time=True, silent=False)], callbacks=[RNNTrainer\n",
       "learn: LanguageLearner(data=TextLMDataBunch;\n",
       "\n",
       "Train: LabelList (18169 items)\n",
       "x: LMTextList\n",
       "m t m d k s e l v q k a k l a e q a e r y d d m a a a m k a v t e q g h e l s n e e r n l l s v a y k n v v g a r r s s w r v i s s i e q k t e r n e k k q q m g k e y r e k i e a e l q d i c n d v l e l l d k y l i p n a t q p e s k v f y l k m k g d y f r y l s e v a s g d n k q t t v s n s q q a y q e a f e i s k k e m q p t h p i r l g l a l n f s v f y y e i l n s p e k a c s l a k t a f d e a i a e l d t l n e e s y k d s t l i m q l l r d n l t l w t s e n q g d e g d a g e g e n,m d d r e d l v y q a k l a e q a e r y d e m v e s m k k v a g m d v e l t v e e r n l l s v a y k n v i g a r r a s w r i i s s i e q k e e n k g g e d k l k m i r e y r q m v e t e l k l i c c d i l d v l d k h l i p a a n t g e s k v f y y k m k g d y h r y l a e f a t g n d r k e a a e n s l v a y k a a s d i a m t e l p p t h p i r l g l a l n f s v f y y e i l n s p d r a c r l a k a a f d d a i a e l d t l s e e s y k d s t l i m q l l r d n l t l w t s d m q g d g e e q n k e a l q d v e d e n q,m g d r e q l l q r a r l a e q a e r y d d m a s a m k a v t e l n e p l s n e d r n l l s v a y k n v v g a r r s s w r v i s s i e q k t m a d g n e k k l e k v k a y r e k i e k e l e t v c n d v l s l l d k f l i k n c n d f q y e s k v f y l k m k g d y y r y l a e v a s g e k k n s v v e a s e a a y k e a f e i s k e q m q p t h p i r l g l a l n f s v f y y e i q n a p e q a c l l a k q a f d d a i a e l d t l n e d s y k d s t l i m q l l r d n l t l w t s d q q d e e a g e g n,m v d r e q l v q k a r l a e q a e r y d d m a a a m k n v t e l n e p l s n e e r n l l s v a y k n v v g a r r s s w r v i s s i e q k t s a d g n e k k i e m v r a y r e k i e k e l e a v c q d v l s l l d n y l i k n c s e t q y e s k v f y l k m k g d y y r y l a e v a t g e k r a t v v e s s e k a y s e a h e i s k e h m q p t h p i r l g l a l n y s v f y y e i q n a p e q a c h l a k t a f d d a i a e l d t l n e d s y k d s t l i m q l l r d n l t l w t s d q q d d d g g e g n n,m e r a s l i q k a k l a e q a e r y e d m a a f m k g a v e k g e e l s c e e r n l l s v a y k n v v g g q r a a w r v l s s i e q k s n e e g s e e k g p e v r e y r e k v e t e l q g v c d t v l g l l d s h l i k e a g d a e s r v f y l k m k g d y y r y l a e v a t g d d k k r i i d s a r s a y q e a m d i s k k e m p p t n p i r l g l a l n f s v f h y e i a n s p e e a i s l a k t t f d e a m a d l h t l s e d s y k d s t l i m q l l r d n l t l w t a d n a g e e g g e a p q e p q s\n",
       "y: LMLabelList\n",
       ",,,,\n",
       "Path: /home/danxu/nfs_danxu/python_nbs/DL_Neoantigen/data/DL_NeoAntigen/db;\n",
       "\n",
       "Valid: LabelList (2018 items)\n",
       "x: LMTextList\n",
       "m q s n k t f n l e k q n h t p r k h h q h h h q q q h h   x x r e p   6   q   x x r e p   5   p   i p a n g q q a s s q n e g l t i d l k n f r k p g e k t f t q r s r l f v g n l p p d i t e e e m r k l f e k y g k a g e v f i h k d k g f g f i r l e t r t l a e i a k v e l d n m p l r g k q l r v r f a c h s a s l t v r n l p q y v s n e l l e e a f s v f g q v e r a v v i v d d r g r p s g k g i v e f s g k p a a r k a l d r c s e g s f l l t t f p r p v t v e p m d q l d d e e g l p e k l v i k n q q f h k e r e q p p r f a q p g s f e y e y a m r w k a l i e m e k q q q d q v d r n i k e a r e k l e m e m e a a r h e h q v m l m r q d l m r r q e e l r r m e e l h n q e v q k r k q l e l r q e e e   x x r e p   4   r   e e e m r r q q e e m m r r q q e g f k g t f p d a r e q e i r m g q m a m g g a m g i n n r g a m p p a p v p a g t p a p p g p a t m m p d g t l g l t p p t t e r f g q a a t m e g i g a i g g t p p a f n r a a p g a e f a p n k r r r y,m a n s s f i g d h v h g a p h a v m p e v e f p d q f f t v l t m d h e l v t l r d v v i n f s q e e w e y l d s a q r n l y w d v m m e n y s n l l s l d l e s r n e t k h l s v g k d i i q n t g s q w e v m e s s k l c g l e g s i f r n d w q s k s k i d l q g p e v g y f s q m k i i s e n v p s y k t h e s l t l p r r t h d s e k p y e y k e y e k v f s c d l e f d e y q k i h t g g k n y e c n q c w k t f g i d n s s m l q l n i h t g v k p c k y m e y g n t c s f y k d f n v y q k i h n e k f y k c k e y r r t f e r v g k v t p l q r v h d g e k h f e c s f c g k s f r v h a q l t r h q k i h t d e k t y k c m e c g k d f r f h s q l t e h q r i h t g e k p y k c m h c e k v f r i s s q l i e h q r i h t g e k p y a c k e c g k a f g v c r e l a r h q r i h t g k k p y e c k a c g k v f r n s s s l t r h q r i h t g e k p y k c k e c e k a f g v g s e l t r h e r i h s g q k p y e c k e c g k f f r l t s a l i q h q r i h s g e k p y e c k v c g k a f r h s s a l t e h q r i h t g e k p y e c k a c g k a f r h s s s f t k h q r i h t d d k p y e c k e c g n s f s v v g h l t c q p k i y t g e k s f d,m v c r e q l s k n q v k w v f a g i t c v s v v v i a a i v l a i t l r r p g c e l e a c s p d a d m l d y l l s l g q i s r r d a l e v t w y h a a n s k k a m t a a l n s n i t v l e a d v n v e g l g t a n e t g v p i m a h p p t i y s d n t l e q w l d a v l g s s q k g i k l d f k n i k a v g p s l d l l r q l t e e g k v r r p i w i n a d i l k g p n m l i s t e v n a t q f l a l v q e k y p k a t l s p g w t t f y m s t s p n r t y t q a m v e k m h e l v g g v p q r v t f p v r s s m v r a a w p h f s w l l s q s e r y s l t l w q a a s d p m s v e d l l y v r d n t a v h q v y y d i f e p l l s q f k q l a l n a t r k p m y y t g g s l i p l l q l p g d d g l n v e w l v p d v q g s g k t a t m t l p d t e g m i l l n t g l e g t v a e n p v p i v h t p s g n i l t l e s c l q q l a t h p g h w g i h l q i a e p a a l r p s l a l l a r l s s l g l l h w p v w v g a k i s h g s f s v p g h v a g r e l l t a v a e v f p h v t v a p g w p e e v l g s g y r e q l l t d m l e l c q g l w q p v s f q m q a m l l g h s t a g a i g r l l a s s p r a t v t v e h n p a g g d y a s v r t a l l a a r a v d r t r v y y r l p q g y h k d l l a h v g r n,m p a p i r l r e l i r t i r t a r t q a e e r e m i q k e c a a i r s s f r e e d n t y r c r n v a k l l y m h m l g y p a h f g q l e c l k l i a s q k f t d k r i g y l g a m l l l d e r q d v h l l m t n c i k n d l n h s t q f v q g l a l c t l g c m g s s e m c r d l a g e v e k l l k t s n s y l r k k a a l c a v h v i r k v p e l m e m f l p a t k n l l n e k n h g v l h t s v v l l t e m c e r s p d m l a h f r k l v p q l v r i l k n l i m s g y s p e h d v s g i s d p f l q v r i l r l l r i l g r n d d d s s e a m n d i l a q v a t n t e t s k n v g n a i l y e t v l t i m d i k s e s g l r v l a i n i l g r f l l n n d k n i r y v a l t s l l k t v q t d h n a v q r h r s t i v d c l k d l d v s i k r r a m e l s f a l v n g n n i r g m m k e l l y f l d s c e p e f k a d c a s g i f l a a e k y a p s k r w h i d t i m r v l t t a g s y v r d d a v p n l i q l i t n s v e m h a y t v q r l y k a i l g d y s q q p l v q v a a w c i g e y g d l l v s g q c   x x r e p   4   e   p i q v t e d e v l d i l e s v l i s n m s t s v t r g y a l t a i m k l s t r f t c t v n r i k k v v s i y g s s i d v e l q q r a v e y n a l f k k y d h m r s a l l e r m p v m e k v t t n g p t e i v q t n g e t e p a p l e t k p p p s g p q p t s q a n d l l d l l g g n d i t p v i p t a p t s k p s s a g g e l l d l l g d i n l t g a p a a a p a p a s v p q i s q p p f l l d g l s s q p l f n d i a a g i p s i t a y s k n g l k i e f t f e r s n t n p s v t v i t i q a s n s t e l d m t d f v f q a a v p k t f q l q l l s p s s s i v p a f n t g t i t q v i k v l n p q k q q l r m r i k l t y n h k g s a m q d l a e v n n f p p q s w q,m s y   x x r e p   4   q   c k q p c q p p p v c p t p k c p e p c p p p k c p e p c p s p k c p q p c p p q q c q q k y p p v t p s p p c q p k c p p k s k\n",
       "y: LMLabelList\n",
       ",,,,\n",
       "Path: /home/danxu/nfs_danxu/python_nbs/DL_Neoantigen/data/DL_NeoAntigen/db;\n",
       "\n",
       "Test: None, model=SequentialRNN(\n",
       "  (0): AWD_LSTM(\n",
       "    (encoder): Embedding(48, 400, padding_idx=1)\n",
       "    (encoder_dp): EmbeddingDropout(\n",
       "      (emb): Embedding(48, 400, padding_idx=1)\n",
       "    )\n",
       "    (rnns): ModuleList(\n",
       "      (0): WeightDropout(\n",
       "        (module): LSTM(400, 1152, batch_first=True)\n",
       "      )\n",
       "      (1): WeightDropout(\n",
       "        (module): LSTM(1152, 1152, batch_first=True)\n",
       "      )\n",
       "      (2): WeightDropout(\n",
       "        (module): LSTM(1152, 400, batch_first=True)\n",
       "      )\n",
       "    )\n",
       "    (input_dp): RNNDropout()\n",
       "    (hidden_dps): ModuleList(\n",
       "      (0): RNNDropout()\n",
       "      (1): RNNDropout()\n",
       "      (2): RNNDropout()\n",
       "    )\n",
       "  )\n",
       "  (1): LinearDecoder(\n",
       "    (decoder): Linear(in_features=400, out_features=48, bias=True)\n",
       "    (output_dp): RNNDropout()\n",
       "  )\n",
       "), opt_func=functools.partial(<class 'torch.optim.adam.Adam'>, betas=(0.9, 0.99)), loss_func=FlattenedLoss of CrossEntropyLoss(), metrics=[<function accuracy at 0x7fba5d33f1e0>], true_wd=True, bn_wd=True, wd=0.01, train_bn=True, path=PosixPath('/home/danxu/nfs_danxu/python_nbs/DL_Neoantigen/data/DL_NeoAntigen/db'), model_dir='models', callback_fns=[functools.partial(<class 'fastai.basic_train.Recorder'>, add_time=True, silent=False)], callbacks=[...], layer_groups=[Sequential(\n",
       "  (0): WeightDropout(\n",
       "    (module): LSTM(400, 1152, batch_first=True)\n",
       "  )\n",
       "  (1): RNNDropout()\n",
       "), Sequential(\n",
       "  (0): WeightDropout(\n",
       "    (module): LSTM(1152, 1152, batch_first=True)\n",
       "  )\n",
       "  (1): RNNDropout()\n",
       "), Sequential(\n",
       "  (0): WeightDropout(\n",
       "    (module): LSTM(1152, 400, batch_first=True)\n",
       "  )\n",
       "  (1): RNNDropout()\n",
       "), Sequential(\n",
       "  (0): Embedding(48, 400, padding_idx=1)\n",
       "  (1): EmbeddingDropout(\n",
       "    (emb): Embedding(48, 400, padding_idx=1)\n",
       "  )\n",
       "  (2): LinearDecoder(\n",
       "    (decoder): Linear(in_features=400, out_features=48, bias=True)\n",
       "    (output_dp): RNNDropout()\n",
       "  )\n",
       ")], add_time=True, silent=False)\n",
       "alpha: 2.0\n",
       "beta: 1.0], layer_groups=[Sequential(\n",
       "  (0): WeightDropout(\n",
       "    (module): LSTM(400, 1152, batch_first=True)\n",
       "  )\n",
       "  (1): RNNDropout()\n",
       "), Sequential(\n",
       "  (0): WeightDropout(\n",
       "    (module): LSTM(1152, 1152, batch_first=True)\n",
       "  )\n",
       "  (1): RNNDropout()\n",
       "), Sequential(\n",
       "  (0): WeightDropout(\n",
       "    (module): LSTM(1152, 400, batch_first=True)\n",
       "  )\n",
       "  (1): RNNDropout()\n",
       "), Sequential(\n",
       "  (0): Embedding(48, 400, padding_idx=1)\n",
       "  (1): EmbeddingDropout(\n",
       "    (emb): Embedding(48, 400, padding_idx=1)\n",
       "  )\n",
       "  (2): LinearDecoder(\n",
       "    (decoder): Linear(in_features=400, out_features=48, bias=True)\n",
       "    (output_dp): RNNDropout()\n",
       "  )\n",
       ")], add_time=True, silent=False)"
      ]
     },
     "execution_count": 15,
     "metadata": {},
     "output_type": "execute_result"
    }
   ],
   "source": [
    "learn.load('/home/danxu/nfs_danxu/python_nbs/DL_Neoantigen/models/uniprot_lm_human_head')"
   ]
  },
  {
   "cell_type": "code",
   "execution_count": 12,
   "metadata": {},
   "outputs": [],
   "source": [
    "learn.unfreeze()"
   ]
  },
  {
   "cell_type": "code",
   "execution_count": 23,
   "metadata": {},
   "outputs": [
    {
     "data": {
      "text/html": [
       "<table border=\"1\" class=\"dataframe\">\n",
       "  <thead>\n",
       "    <tr style=\"text-align: left;\">\n",
       "      <th>epoch</th>\n",
       "      <th>train_loss</th>\n",
       "      <th>valid_loss</th>\n",
       "      <th>accuracy</th>\n",
       "      <th>time</th>\n",
       "    </tr>\n",
       "  </thead>\n",
       "  <tbody>\n",
       "    <tr>\n",
       "      <td>0</td>\n",
       "      <td>2.378797</td>\n",
       "      <td>2.629303</td>\n",
       "      <td>0.202997</td>\n",
       "      <td>02:27</td>\n",
       "    </tr>\n",
       "    <tr>\n",
       "      <td>1</td>\n",
       "      <td>2.431806</td>\n",
       "      <td>2.621450</td>\n",
       "      <td>0.201457</td>\n",
       "      <td>02:28</td>\n",
       "    </tr>\n",
       "    <tr>\n",
       "      <td>2</td>\n",
       "      <td>2.448062</td>\n",
       "      <td>2.619581</td>\n",
       "      <td>0.201333</td>\n",
       "      <td>02:28</td>\n",
       "    </tr>\n",
       "    <tr>\n",
       "      <td>3</td>\n",
       "      <td>2.418123</td>\n",
       "      <td>2.614988</td>\n",
       "      <td>0.202883</td>\n",
       "      <td>02:28</td>\n",
       "    </tr>\n",
       "    <tr>\n",
       "      <td>4</td>\n",
       "      <td>2.374504</td>\n",
       "      <td>2.616343</td>\n",
       "      <td>0.204361</td>\n",
       "      <td>02:28</td>\n",
       "    </tr>\n",
       "    <tr>\n",
       "      <td>5</td>\n",
       "      <td>2.374597</td>\n",
       "      <td>2.623486</td>\n",
       "      <td>0.205599</td>\n",
       "      <td>02:28</td>\n",
       "    </tr>\n",
       "    <tr>\n",
       "      <td>6</td>\n",
       "      <td>2.333418</td>\n",
       "      <td>2.627048</td>\n",
       "      <td>0.206232</td>\n",
       "      <td>02:29</td>\n",
       "    </tr>\n",
       "    <tr>\n",
       "      <td>7</td>\n",
       "      <td>2.285729</td>\n",
       "      <td>2.631917</td>\n",
       "      <td>0.206052</td>\n",
       "      <td>02:29</td>\n",
       "    </tr>\n",
       "  </tbody>\n",
       "</table>"
      ],
      "text/plain": [
       "<IPython.core.display.HTML object>"
      ]
     },
     "metadata": {},
     "output_type": "display_data"
    }
   ],
   "source": [
    "learn.fit_one_cycle(8, 1e-3, moms=(0.8,0.7))"
   ]
  },
  {
   "cell_type": "code",
   "execution_count": 22,
   "metadata": {},
   "outputs": [],
   "source": [
    "learn.save(f'{m_path}/uniprot_lm_human_fine_tuned')"
   ]
  },
  {
   "cell_type": "code",
   "execution_count": 44,
   "metadata": {
    "collapsed": true,
    "jupyter": {
     "outputs_hidden": true
    }
   },
   "outputs": [
    {
     "data": {
      "text/plain": [
       "LanguageLearner(data=TextLMDataBunch;\n",
       "\n",
       "Train: LabelList (18169 items)\n",
       "x: LMTextList\n",
       "m t m d k s e l v q k a k l a e q a e r y d d m a a a m k a v t e q g h e l s n e e r n l l s v a y k n v v g a r r s s w r v i s s i e q k t e r n e k k q q m g k e y r e k i e a e l q d i c n d v l e l l d k y l i p n a t q p e s k v f y l k m k g d y f r y l s e v a s g d n k q t t v s n s q q a y q e a f e i s k k e m q p t h p i r l g l a l n f s v f y y e i l n s p e k a c s l a k t a f d e a i a e l d t l n e e s y k d s t l i m q l l r d n l t l w t s e n q g d e g d a g e g e n,m d d r e d l v y q a k l a e q a e r y d e m v e s m k k v a g m d v e l t v e e r n l l s v a y k n v i g a r r a s w r i i s s i e q k e e n k g g e d k l k m i r e y r q m v e t e l k l i c c d i l d v l d k h l i p a a n t g e s k v f y y k m k g d y h r y l a e f a t g n d r k e a a e n s l v a y k a a s d i a m t e l p p t h p i r l g l a l n f s v f y y e i l n s p d r a c r l a k a a f d d a i a e l d t l s e e s y k d s t l i m q l l r d n l t l w t s d m q g d g e e q n k e a l q d v e d e n q,m g d r e q l l q r a r l a e q a e r y d d m a s a m k a v t e l n e p l s n e d r n l l s v a y k n v v g a r r s s w r v i s s i e q k t m a d g n e k k l e k v k a y r e k i e k e l e t v c n d v l s l l d k f l i k n c n d f q y e s k v f y l k m k g d y y r y l a e v a s g e k k n s v v e a s e a a y k e a f e i s k e q m q p t h p i r l g l a l n f s v f y y e i q n a p e q a c l l a k q a f d d a i a e l d t l n e d s y k d s t l i m q l l r d n l t l w t s d q q d e e a g e g n,m v d r e q l v q k a r l a e q a e r y d d m a a a m k n v t e l n e p l s n e e r n l l s v a y k n v v g a r r s s w r v i s s i e q k t s a d g n e k k i e m v r a y r e k i e k e l e a v c q d v l s l l d n y l i k n c s e t q y e s k v f y l k m k g d y y r y l a e v a t g e k r a t v v e s s e k a y s e a h e i s k e h m q p t h p i r l g l a l n y s v f y y e i q n a p e q a c h l a k t a f d d a i a e l d t l n e d s y k d s t l i m q l l r d n l t l w t s d q q d d d g g e g n n,m e r a s l i q k a k l a e q a e r y e d m a a f m k g a v e k g e e l s c e e r n l l s v a y k n v v g g q r a a w r v l s s i e q k s n e e g s e e k g p e v r e y r e k v e t e l q g v c d t v l g l l d s h l i k e a g d a e s r v f y l k m k g d y y r y l a e v a t g d d k k r i i d s a r s a y q e a m d i s k k e m p p t n p i r l g l a l n f s v f h y e i a n s p e e a i s l a k t t f d e a m a d l h t l s e d s y k d s t l i m q l l r d n l t l w t a d n a g e e g g e a p q e p q s\n",
       "y: LMLabelList\n",
       ",,,,\n",
       "Path: /home/danxu/nfs_danxu/python_nbs/DL_Neoantigen/data/DL_NeoAntigen/db;\n",
       "\n",
       "Valid: LabelList (2018 items)\n",
       "x: LMTextList\n",
       "m q s n k t f n l e k q n h t p r k h h q h h h q q q h h   x x r e p   6   q   x x r e p   5   p   i p a n g q q a s s q n e g l t i d l k n f r k p g e k t f t q r s r l f v g n l p p d i t e e e m r k l f e k y g k a g e v f i h k d k g f g f i r l e t r t l a e i a k v e l d n m p l r g k q l r v r f a c h s a s l t v r n l p q y v s n e l l e e a f s v f g q v e r a v v i v d d r g r p s g k g i v e f s g k p a a r k a l d r c s e g s f l l t t f p r p v t v e p m d q l d d e e g l p e k l v i k n q q f h k e r e q p p r f a q p g s f e y e y a m r w k a l i e m e k q q q d q v d r n i k e a r e k l e m e m e a a r h e h q v m l m r q d l m r r q e e l r r m e e l h n q e v q k r k q l e l r q e e e   x x r e p   4   r   e e e m r r q q e e m m r r q q e g f k g t f p d a r e q e i r m g q m a m g g a m g i n n r g a m p p a p v p a g t p a p p g p a t m m p d g t l g l t p p t t e r f g q a a t m e g i g a i g g t p p a f n r a a p g a e f a p n k r r r y,m a n s s f i g d h v h g a p h a v m p e v e f p d q f f t v l t m d h e l v t l r d v v i n f s q e e w e y l d s a q r n l y w d v m m e n y s n l l s l d l e s r n e t k h l s v g k d i i q n t g s q w e v m e s s k l c g l e g s i f r n d w q s k s k i d l q g p e v g y f s q m k i i s e n v p s y k t h e s l t l p r r t h d s e k p y e y k e y e k v f s c d l e f d e y q k i h t g g k n y e c n q c w k t f g i d n s s m l q l n i h t g v k p c k y m e y g n t c s f y k d f n v y q k i h n e k f y k c k e y r r t f e r v g k v t p l q r v h d g e k h f e c s f c g k s f r v h a q l t r h q k i h t d e k t y k c m e c g k d f r f h s q l t e h q r i h t g e k p y k c m h c e k v f r i s s q l i e h q r i h t g e k p y a c k e c g k a f g v c r e l a r h q r i h t g k k p y e c k a c g k v f r n s s s l t r h q r i h t g e k p y k c k e c e k a f g v g s e l t r h e r i h s g q k p y e c k e c g k f f r l t s a l i q h q r i h s g e k p y e c k v c g k a f r h s s a l t e h q r i h t g e k p y e c k a c g k a f r h s s s f t k h q r i h t d d k p y e c k e c g n s f s v v g h l t c q p k i y t g e k s f d,m v c r e q l s k n q v k w v f a g i t c v s v v v i a a i v l a i t l r r p g c e l e a c s p d a d m l d y l l s l g q i s r r d a l e v t w y h a a n s k k a m t a a l n s n i t v l e a d v n v e g l g t a n e t g v p i m a h p p t i y s d n t l e q w l d a v l g s s q k g i k l d f k n i k a v g p s l d l l r q l t e e g k v r r p i w i n a d i l k g p n m l i s t e v n a t q f l a l v q e k y p k a t l s p g w t t f y m s t s p n r t y t q a m v e k m h e l v g g v p q r v t f p v r s s m v r a a w p h f s w l l s q s e r y s l t l w q a a s d p m s v e d l l y v r d n t a v h q v y y d i f e p l l s q f k q l a l n a t r k p m y y t g g s l i p l l q l p g d d g l n v e w l v p d v q g s g k t a t m t l p d t e g m i l l n t g l e g t v a e n p v p i v h t p s g n i l t l e s c l q q l a t h p g h w g i h l q i a e p a a l r p s l a l l a r l s s l g l l h w p v w v g a k i s h g s f s v p g h v a g r e l l t a v a e v f p h v t v a p g w p e e v l g s g y r e q l l t d m l e l c q g l w q p v s f q m q a m l l g h s t a g a i g r l l a s s p r a t v t v e h n p a g g d y a s v r t a l l a a r a v d r t r v y y r l p q g y h k d l l a h v g r n,m p a p i r l r e l i r t i r t a r t q a e e r e m i q k e c a a i r s s f r e e d n t y r c r n v a k l l y m h m l g y p a h f g q l e c l k l i a s q k f t d k r i g y l g a m l l l d e r q d v h l l m t n c i k n d l n h s t q f v q g l a l c t l g c m g s s e m c r d l a g e v e k l l k t s n s y l r k k a a l c a v h v i r k v p e l m e m f l p a t k n l l n e k n h g v l h t s v v l l t e m c e r s p d m l a h f r k l v p q l v r i l k n l i m s g y s p e h d v s g i s d p f l q v r i l r l l r i l g r n d d d s s e a m n d i l a q v a t n t e t s k n v g n a i l y e t v l t i m d i k s e s g l r v l a i n i l g r f l l n n d k n i r y v a l t s l l k t v q t d h n a v q r h r s t i v d c l k d l d v s i k r r a m e l s f a l v n g n n i r g m m k e l l y f l d s c e p e f k a d c a s g i f l a a e k y a p s k r w h i d t i m r v l t t a g s y v r d d a v p n l i q l i t n s v e m h a y t v q r l y k a i l g d y s q q p l v q v a a w c i g e y g d l l v s g q c   x x r e p   4   e   p i q v t e d e v l d i l e s v l i s n m s t s v t r g y a l t a i m k l s t r f t c t v n r i k k v v s i y g s s i d v e l q q r a v e y n a l f k k y d h m r s a l l e r m p v m e k v t t n g p t e i v q t n g e t e p a p l e t k p p p s g p q p t s q a n d l l d l l g g n d i t p v i p t a p t s k p s s a g g e l l d l l g d i n l t g a p a a a p a p a s v p q i s q p p f l l d g l s s q p l f n d i a a g i p s i t a y s k n g l k i e f t f e r s n t n p s v t v i t i q a s n s t e l d m t d f v f q a a v p k t f q l q l l s p s s s i v p a f n t g t i t q v i k v l n p q k q q l r m r i k l t y n h k g s a m q d l a e v n n f p p q s w q,m s y   x x r e p   4   q   c k q p c q p p p v c p t p k c p e p c p p p k c p e p c p s p k c p q p c p p q q c q q k y p p v t p s p p c q p k c p p k s k\n",
       "y: LMLabelList\n",
       ",,,,\n",
       "Path: /home/danxu/nfs_danxu/python_nbs/DL_Neoantigen/data/DL_NeoAntigen/db;\n",
       "\n",
       "Test: None, model=SequentialRNN(\n",
       "  (0): AWD_LSTM(\n",
       "    (encoder): Embedding(48, 400, padding_idx=1)\n",
       "    (encoder_dp): EmbeddingDropout(\n",
       "      (emb): Embedding(48, 400, padding_idx=1)\n",
       "    )\n",
       "    (rnns): ModuleList(\n",
       "      (0): WeightDropout(\n",
       "        (module): LSTM(400, 1152, batch_first=True)\n",
       "      )\n",
       "      (1): WeightDropout(\n",
       "        (module): LSTM(1152, 1152, batch_first=True)\n",
       "      )\n",
       "      (2): WeightDropout(\n",
       "        (module): LSTM(1152, 400, batch_first=True)\n",
       "      )\n",
       "    )\n",
       "    (input_dp): RNNDropout()\n",
       "    (hidden_dps): ModuleList(\n",
       "      (0): RNNDropout()\n",
       "      (1): RNNDropout()\n",
       "      (2): RNNDropout()\n",
       "    )\n",
       "  )\n",
       "  (1): LinearDecoder(\n",
       "    (decoder): Linear(in_features=400, out_features=48, bias=True)\n",
       "    (output_dp): RNNDropout()\n",
       "  )\n",
       "), opt_func=functools.partial(<class 'torch.optim.adam.Adam'>, betas=(0.9, 0.99)), loss_func=FlattenedLoss of CrossEntropyLoss(), metrics=[<function accuracy at 0x7f45f7648a60>], true_wd=True, bn_wd=True, wd=0.01, train_bn=True, path=PosixPath('/home/danxu/nfs_danxu/python_nbs/DL_Neoantigen/data/DL_NeoAntigen/db'), model_dir='models', callback_fns=[functools.partial(<class 'fastai.basic_train.Recorder'>, add_time=True, silent=False)], callbacks=[RNNTrainer\n",
       "learn: LanguageLearner(data=TextLMDataBunch;\n",
       "\n",
       "Train: LabelList (18169 items)\n",
       "x: LMTextList\n",
       "m t m d k s e l v q k a k l a e q a e r y d d m a a a m k a v t e q g h e l s n e e r n l l s v a y k n v v g a r r s s w r v i s s i e q k t e r n e k k q q m g k e y r e k i e a e l q d i c n d v l e l l d k y l i p n a t q p e s k v f y l k m k g d y f r y l s e v a s g d n k q t t v s n s q q a y q e a f e i s k k e m q p t h p i r l g l a l n f s v f y y e i l n s p e k a c s l a k t a f d e a i a e l d t l n e e s y k d s t l i m q l l r d n l t l w t s e n q g d e g d a g e g e n,m d d r e d l v y q a k l a e q a e r y d e m v e s m k k v a g m d v e l t v e e r n l l s v a y k n v i g a r r a s w r i i s s i e q k e e n k g g e d k l k m i r e y r q m v e t e l k l i c c d i l d v l d k h l i p a a n t g e s k v f y y k m k g d y h r y l a e f a t g n d r k e a a e n s l v a y k a a s d i a m t e l p p t h p i r l g l a l n f s v f y y e i l n s p d r a c r l a k a a f d d a i a e l d t l s e e s y k d s t l i m q l l r d n l t l w t s d m q g d g e e q n k e a l q d v e d e n q,m g d r e q l l q r a r l a e q a e r y d d m a s a m k a v t e l n e p l s n e d r n l l s v a y k n v v g a r r s s w r v i s s i e q k t m a d g n e k k l e k v k a y r e k i e k e l e t v c n d v l s l l d k f l i k n c n d f q y e s k v f y l k m k g d y y r y l a e v a s g e k k n s v v e a s e a a y k e a f e i s k e q m q p t h p i r l g l a l n f s v f y y e i q n a p e q a c l l a k q a f d d a i a e l d t l n e d s y k d s t l i m q l l r d n l t l w t s d q q d e e a g e g n,m v d r e q l v q k a r l a e q a e r y d d m a a a m k n v t e l n e p l s n e e r n l l s v a y k n v v g a r r s s w r v i s s i e q k t s a d g n e k k i e m v r a y r e k i e k e l e a v c q d v l s l l d n y l i k n c s e t q y e s k v f y l k m k g d y y r y l a e v a t g e k r a t v v e s s e k a y s e a h e i s k e h m q p t h p i r l g l a l n y s v f y y e i q n a p e q a c h l a k t a f d d a i a e l d t l n e d s y k d s t l i m q l l r d n l t l w t s d q q d d d g g e g n n,m e r a s l i q k a k l a e q a e r y e d m a a f m k g a v e k g e e l s c e e r n l l s v a y k n v v g g q r a a w r v l s s i e q k s n e e g s e e k g p e v r e y r e k v e t e l q g v c d t v l g l l d s h l i k e a g d a e s r v f y l k m k g d y y r y l a e v a t g d d k k r i i d s a r s a y q e a m d i s k k e m p p t n p i r l g l a l n f s v f h y e i a n s p e e a i s l a k t t f d e a m a d l h t l s e d s y k d s t l i m q l l r d n l t l w t a d n a g e e g g e a p q e p q s\n",
       "y: LMLabelList\n",
       ",,,,\n",
       "Path: /home/danxu/nfs_danxu/python_nbs/DL_Neoantigen/data/DL_NeoAntigen/db;\n",
       "\n",
       "Valid: LabelList (2018 items)\n",
       "x: LMTextList\n",
       "m q s n k t f n l e k q n h t p r k h h q h h h q q q h h   x x r e p   6   q   x x r e p   5   p   i p a n g q q a s s q n e g l t i d l k n f r k p g e k t f t q r s r l f v g n l p p d i t e e e m r k l f e k y g k a g e v f i h k d k g f g f i r l e t r t l a e i a k v e l d n m p l r g k q l r v r f a c h s a s l t v r n l p q y v s n e l l e e a f s v f g q v e r a v v i v d d r g r p s g k g i v e f s g k p a a r k a l d r c s e g s f l l t t f p r p v t v e p m d q l d d e e g l p e k l v i k n q q f h k e r e q p p r f a q p g s f e y e y a m r w k a l i e m e k q q q d q v d r n i k e a r e k l e m e m e a a r h e h q v m l m r q d l m r r q e e l r r m e e l h n q e v q k r k q l e l r q e e e   x x r e p   4   r   e e e m r r q q e e m m r r q q e g f k g t f p d a r e q e i r m g q m a m g g a m g i n n r g a m p p a p v p a g t p a p p g p a t m m p d g t l g l t p p t t e r f g q a a t m e g i g a i g g t p p a f n r a a p g a e f a p n k r r r y,m a n s s f i g d h v h g a p h a v m p e v e f p d q f f t v l t m d h e l v t l r d v v i n f s q e e w e y l d s a q r n l y w d v m m e n y s n l l s l d l e s r n e t k h l s v g k d i i q n t g s q w e v m e s s k l c g l e g s i f r n d w q s k s k i d l q g p e v g y f s q m k i i s e n v p s y k t h e s l t l p r r t h d s e k p y e y k e y e k v f s c d l e f d e y q k i h t g g k n y e c n q c w k t f g i d n s s m l q l n i h t g v k p c k y m e y g n t c s f y k d f n v y q k i h n e k f y k c k e y r r t f e r v g k v t p l q r v h d g e k h f e c s f c g k s f r v h a q l t r h q k i h t d e k t y k c m e c g k d f r f h s q l t e h q r i h t g e k p y k c m h c e k v f r i s s q l i e h q r i h t g e k p y a c k e c g k a f g v c r e l a r h q r i h t g k k p y e c k a c g k v f r n s s s l t r h q r i h t g e k p y k c k e c e k a f g v g s e l t r h e r i h s g q k p y e c k e c g k f f r l t s a l i q h q r i h s g e k p y e c k v c g k a f r h s s a l t e h q r i h t g e k p y e c k a c g k a f r h s s s f t k h q r i h t d d k p y e c k e c g n s f s v v g h l t c q p k i y t g e k s f d,m v c r e q l s k n q v k w v f a g i t c v s v v v i a a i v l a i t l r r p g c e l e a c s p d a d m l d y l l s l g q i s r r d a l e v t w y h a a n s k k a m t a a l n s n i t v l e a d v n v e g l g t a n e t g v p i m a h p p t i y s d n t l e q w l d a v l g s s q k g i k l d f k n i k a v g p s l d l l r q l t e e g k v r r p i w i n a d i l k g p n m l i s t e v n a t q f l a l v q e k y p k a t l s p g w t t f y m s t s p n r t y t q a m v e k m h e l v g g v p q r v t f p v r s s m v r a a w p h f s w l l s q s e r y s l t l w q a a s d p m s v e d l l y v r d n t a v h q v y y d i f e p l l s q f k q l a l n a t r k p m y y t g g s l i p l l q l p g d d g l n v e w l v p d v q g s g k t a t m t l p d t e g m i l l n t g l e g t v a e n p v p i v h t p s g n i l t l e s c l q q l a t h p g h w g i h l q i a e p a a l r p s l a l l a r l s s l g l l h w p v w v g a k i s h g s f s v p g h v a g r e l l t a v a e v f p h v t v a p g w p e e v l g s g y r e q l l t d m l e l c q g l w q p v s f q m q a m l l g h s t a g a i g r l l a s s p r a t v t v e h n p a g g d y a s v r t a l l a a r a v d r t r v y y r l p q g y h k d l l a h v g r n,m p a p i r l r e l i r t i r t a r t q a e e r e m i q k e c a a i r s s f r e e d n t y r c r n v a k l l y m h m l g y p a h f g q l e c l k l i a s q k f t d k r i g y l g a m l l l d e r q d v h l l m t n c i k n d l n h s t q f v q g l a l c t l g c m g s s e m c r d l a g e v e k l l k t s n s y l r k k a a l c a v h v i r k v p e l m e m f l p a t k n l l n e k n h g v l h t s v v l l t e m c e r s p d m l a h f r k l v p q l v r i l k n l i m s g y s p e h d v s g i s d p f l q v r i l r l l r i l g r n d d d s s e a m n d i l a q v a t n t e t s k n v g n a i l y e t v l t i m d i k s e s g l r v l a i n i l g r f l l n n d k n i r y v a l t s l l k t v q t d h n a v q r h r s t i v d c l k d l d v s i k r r a m e l s f a l v n g n n i r g m m k e l l y f l d s c e p e f k a d c a s g i f l a a e k y a p s k r w h i d t i m r v l t t a g s y v r d d a v p n l i q l i t n s v e m h a y t v q r l y k a i l g d y s q q p l v q v a a w c i g e y g d l l v s g q c   x x r e p   4   e   p i q v t e d e v l d i l e s v l i s n m s t s v t r g y a l t a i m k l s t r f t c t v n r i k k v v s i y g s s i d v e l q q r a v e y n a l f k k y d h m r s a l l e r m p v m e k v t t n g p t e i v q t n g e t e p a p l e t k p p p s g p q p t s q a n d l l d l l g g n d i t p v i p t a p t s k p s s a g g e l l d l l g d i n l t g a p a a a p a p a s v p q i s q p p f l l d g l s s q p l f n d i a a g i p s i t a y s k n g l k i e f t f e r s n t n p s v t v i t i q a s n s t e l d m t d f v f q a a v p k t f q l q l l s p s s s i v p a f n t g t i t q v i k v l n p q k q q l r m r i k l t y n h k g s a m q d l a e v n n f p p q s w q,m s y   x x r e p   4   q   c k q p c q p p p v c p t p k c p e p c p p p k c p e p c p s p k c p q p c p p q q c q q k y p p v t p s p p c q p k c p p k s k\n",
       "y: LMLabelList\n",
       ",,,,\n",
       "Path: /home/danxu/nfs_danxu/python_nbs/DL_Neoantigen/data/DL_NeoAntigen/db;\n",
       "\n",
       "Test: None, model=SequentialRNN(\n",
       "  (0): AWD_LSTM(\n",
       "    (encoder): Embedding(48, 400, padding_idx=1)\n",
       "    (encoder_dp): EmbeddingDropout(\n",
       "      (emb): Embedding(48, 400, padding_idx=1)\n",
       "    )\n",
       "    (rnns): ModuleList(\n",
       "      (0): WeightDropout(\n",
       "        (module): LSTM(400, 1152, batch_first=True)\n",
       "      )\n",
       "      (1): WeightDropout(\n",
       "        (module): LSTM(1152, 1152, batch_first=True)\n",
       "      )\n",
       "      (2): WeightDropout(\n",
       "        (module): LSTM(1152, 400, batch_first=True)\n",
       "      )\n",
       "    )\n",
       "    (input_dp): RNNDropout()\n",
       "    (hidden_dps): ModuleList(\n",
       "      (0): RNNDropout()\n",
       "      (1): RNNDropout()\n",
       "      (2): RNNDropout()\n",
       "    )\n",
       "  )\n",
       "  (1): LinearDecoder(\n",
       "    (decoder): Linear(in_features=400, out_features=48, bias=True)\n",
       "    (output_dp): RNNDropout()\n",
       "  )\n",
       "), opt_func=functools.partial(<class 'torch.optim.adam.Adam'>, betas=(0.9, 0.99)), loss_func=FlattenedLoss of CrossEntropyLoss(), metrics=[<function accuracy at 0x7f45f7648a60>], true_wd=True, bn_wd=True, wd=0.01, train_bn=True, path=PosixPath('/home/danxu/nfs_danxu/python_nbs/DL_Neoantigen/data/DL_NeoAntigen/db'), model_dir='models', callback_fns=[functools.partial(<class 'fastai.basic_train.Recorder'>, add_time=True, silent=False)], callbacks=[...], layer_groups=[Sequential(\n",
       "  (0): WeightDropout(\n",
       "    (module): LSTM(400, 1152, batch_first=True)\n",
       "  )\n",
       "  (1): RNNDropout()\n",
       "), Sequential(\n",
       "  (0): WeightDropout(\n",
       "    (module): LSTM(1152, 1152, batch_first=True)\n",
       "  )\n",
       "  (1): RNNDropout()\n",
       "), Sequential(\n",
       "  (0): WeightDropout(\n",
       "    (module): LSTM(1152, 400, batch_first=True)\n",
       "  )\n",
       "  (1): RNNDropout()\n",
       "), Sequential(\n",
       "  (0): Embedding(48, 400, padding_idx=1)\n",
       "  (1): EmbeddingDropout(\n",
       "    (emb): Embedding(48, 400, padding_idx=1)\n",
       "  )\n",
       "  (2): LinearDecoder(\n",
       "    (decoder): Linear(in_features=400, out_features=48, bias=True)\n",
       "    (output_dp): RNNDropout()\n",
       "  )\n",
       ")], add_time=True, silent=False)\n",
       "alpha: 2.0\n",
       "beta: 1.0], layer_groups=[Sequential(\n",
       "  (0): WeightDropout(\n",
       "    (module): LSTM(400, 1152, batch_first=True)\n",
       "  )\n",
       "  (1): RNNDropout()\n",
       "), Sequential(\n",
       "  (0): WeightDropout(\n",
       "    (module): LSTM(1152, 1152, batch_first=True)\n",
       "  )\n",
       "  (1): RNNDropout()\n",
       "), Sequential(\n",
       "  (0): WeightDropout(\n",
       "    (module): LSTM(1152, 400, batch_first=True)\n",
       "  )\n",
       "  (1): RNNDropout()\n",
       "), Sequential(\n",
       "  (0): Embedding(48, 400, padding_idx=1)\n",
       "  (1): EmbeddingDropout(\n",
       "    (emb): Embedding(48, 400, padding_idx=1)\n",
       "  )\n",
       "  (2): LinearDecoder(\n",
       "    (decoder): Linear(in_features=400, out_features=48, bias=True)\n",
       "    (output_dp): RNNDropout()\n",
       "  )\n",
       ")], add_time=True, silent=False)"
      ]
     },
     "execution_count": 44,
     "metadata": {},
     "output_type": "execute_result"
    }
   ],
   "source": [
    "learn.load(f'{m_path}/uniprot_lm_human_fine_tuned')"
   ]
  },
  {
   "cell_type": "code",
   "execution_count": 48,
   "metadata": {},
   "outputs": [
    {
     "data": {
      "text/plain": [
       "'ELVQKAKLAE d i k i e l t d g n'"
      ]
     },
     "execution_count": 48,
     "metadata": {},
     "output_type": "execute_result"
    }
   ],
   "source": [
    "learn.predict(\"ELVQKAKLAE\", n_words=10)"
   ]
  },
  {
   "cell_type": "code",
   "execution_count": 49,
   "metadata": {},
   "outputs": [],
   "source": [
    "learn.save_encoder(f'{m_path}/uniprot_lm_human_fine_tuned_enc')"
   ]
  },
  {
   "cell_type": "markdown",
   "metadata": {},
   "source": [
    "# Neoantigen Classifier"
   ]
  },
  {
   "cell_type": "code",
   "execution_count": 5,
   "metadata": {},
   "outputs": [],
   "source": [
    "path = '/home/danxu/nfs_danxu/python_nbs/DL_Neoantigen'\n",
    "d_path = path + '/Data'\n",
    "bs = 48"
   ]
  },
  {
   "cell_type": "code",
   "execution_count": 80,
   "metadata": {},
   "outputs": [
    {
     "data": {
      "text/html": [],
      "text/plain": [
       "<IPython.core.display.HTML object>"
      ]
     },
     "metadata": {},
     "output_type": "display_data"
    },
    {
     "data": {
      "text/html": [],
      "text/plain": [
       "<IPython.core.display.HTML object>"
      ]
     },
     "metadata": {},
     "output_type": "display_data"
    }
   ],
   "source": [
    "data_clas = (TextList.from_csv(f'{d_path}/train', 'train_pep.csv', vocab=data_lm.vocab, cols='peptide',\n",
    "                              processor=[char_tokenize_processor, NumericalizeProcessor()])\n",
    "             .split_by_rand_pct(0.1)\n",
    "             .label_from_df(cols=3)\n",
    "             .databunch(bs=bs))\n",
    "\n",
    "data_clas.save('data_clas.pkl')"
   ]
  },
  {
   "cell_type": "code",
   "execution_count": 21,
   "metadata": {},
   "outputs": [],
   "source": [
    "data_clas = load_data(f'{d_path}/train', 'data_clas.pkl', bs=bs)"
   ]
  },
  {
   "cell_type": "code",
   "execution_count": 23,
   "metadata": {},
   "outputs": [
    {
     "data": {
      "text/html": [
       "<table border=\"1\" class=\"dataframe\">\n",
       "  <thead>\n",
       "    <tr style=\"text-align: right;\">\n",
       "      <th>text</th>\n",
       "      <th>target</th>\n",
       "    </tr>\n",
       "  </thead>\n",
       "  <tbody>\n",
       "    <tr>\n",
       "      <td>g s   x x r e p   4   g   f   x x r e p   4   g   f   x x r e p   4   g   y</td>\n",
       "      <td>True</td>\n",
       "    </tr>\n",
       "    <tr>\n",
       "      <td>w t p a p g p v d a y e i q f i p t t e g</td>\n",
       "      <td>True</td>\n",
       "    </tr>\n",
       "    <tr>\n",
       "      <td>a t   x x r e p   4   s   t s a g s</td>\n",
       "      <td>False</td>\n",
       "    </tr>\n",
       "    <tr>\n",
       "      <td>s a   x x r e p   4   l   i l n h n</td>\n",
       "      <td>False</td>\n",
       "    </tr>\n",
       "    <tr>\n",
       "      <td>p p s h i   x x r e p   4   p   r h</td>\n",
       "      <td>False</td>\n",
       "    </tr>\n",
       "  </tbody>\n",
       "</table>"
      ],
      "text/plain": [
       "<IPython.core.display.HTML object>"
      ]
     },
     "metadata": {},
     "output_type": "display_data"
    }
   ],
   "source": [
    "data_clas.show_batch()"
   ]
  },
  {
   "cell_type": "code",
   "execution_count": 25,
   "metadata": {
    "collapsed": true,
    "jupyter": {
     "outputs_hidden": true
    }
   },
   "outputs": [
    {
     "data": {
      "text/plain": [
       "RNNLearner(data=TextClasDataBunch;\n",
       "\n",
       "Train: LabelList (4472089 items)\n",
       "x: TextList\n",
       "k y q e v t n n l,k y l e e t n s l,n a a n v g w n n s t f a,t h s i p e n t n f,q h v q p a g q d f\n",
       "y: CategoryList\n",
       "True,True,True,True,True\n",
       "Path: /home/danxu/nfs_danxu/python_nbs/DL_Neoantigen/Data/train;\n",
       "\n",
       "Valid: LabelList (496898 items)\n",
       "x: TextList\n",
       "g s c p r k g t,t s g a v c h q d,e g i n l i k v f,p v p a q i a i t,s s s f n m s n s g\n",
       "y: CategoryList\n",
       "False,False,False,False,False\n",
       "Path: /home/danxu/nfs_danxu/python_nbs/DL_Neoantigen/Data/train;\n",
       "\n",
       "Test: None, model=SequentialRNN(\n",
       "  (0): MultiBatchEncoder(\n",
       "    (module): AWD_LSTM(\n",
       "      (encoder): Embedding(48, 400, padding_idx=1)\n",
       "      (encoder_dp): EmbeddingDropout(\n",
       "        (emb): Embedding(48, 400, padding_idx=1)\n",
       "      )\n",
       "      (rnns): ModuleList(\n",
       "        (0): WeightDropout(\n",
       "          (module): LSTM(400, 1152, batch_first=True)\n",
       "        )\n",
       "        (1): WeightDropout(\n",
       "          (module): LSTM(1152, 1152, batch_first=True)\n",
       "        )\n",
       "        (2): WeightDropout(\n",
       "          (module): LSTM(1152, 400, batch_first=True)\n",
       "        )\n",
       "      )\n",
       "      (input_dp): RNNDropout()\n",
       "      (hidden_dps): ModuleList(\n",
       "        (0): RNNDropout()\n",
       "        (1): RNNDropout()\n",
       "        (2): RNNDropout()\n",
       "      )\n",
       "    )\n",
       "  )\n",
       "  (1): PoolingLinearClassifier(\n",
       "    (layers): Sequential(\n",
       "      (0): BatchNorm1d(1200, eps=1e-05, momentum=0.1, affine=True, track_running_stats=True)\n",
       "      (1): Dropout(p=0.2, inplace=False)\n",
       "      (2): Linear(in_features=1200, out_features=50, bias=True)\n",
       "      (3): ReLU(inplace=True)\n",
       "      (4): BatchNorm1d(50, eps=1e-05, momentum=0.1, affine=True, track_running_stats=True)\n",
       "      (5): Dropout(p=0.1, inplace=False)\n",
       "      (6): Linear(in_features=50, out_features=2, bias=True)\n",
       "    )\n",
       "  )\n",
       "), opt_func=functools.partial(<class 'torch.optim.adam.Adam'>, betas=(0.9, 0.99)), loss_func=FlattenedLoss of CrossEntropyLoss(), metrics=[<function accuracy at 0x7fba5d33f1e0>], true_wd=True, bn_wd=True, wd=0.01, train_bn=True, path=PosixPath('/home/danxu/nfs_danxu/python_nbs/DL_Neoantigen/Data/train'), model_dir='models', callback_fns=[functools.partial(<class 'fastai.basic_train.Recorder'>, add_time=True, silent=False)], callbacks=[RNNTrainer\n",
       "learn: RNNLearner(data=TextClasDataBunch;\n",
       "\n",
       "Train: LabelList (4472089 items)\n",
       "x: TextList\n",
       "k y q e v t n n l,k y l e e t n s l,n a a n v g w n n s t f a,t h s i p e n t n f,q h v q p a g q d f\n",
       "y: CategoryList\n",
       "True,True,True,True,True\n",
       "Path: /home/danxu/nfs_danxu/python_nbs/DL_Neoantigen/Data/train;\n",
       "\n",
       "Valid: LabelList (496898 items)\n",
       "x: TextList\n",
       "g s c p r k g t,t s g a v c h q d,e g i n l i k v f,p v p a q i a i t,s s s f n m s n s g\n",
       "y: CategoryList\n",
       "False,False,False,False,False\n",
       "Path: /home/danxu/nfs_danxu/python_nbs/DL_Neoantigen/Data/train;\n",
       "\n",
       "Test: None, model=SequentialRNN(\n",
       "  (0): MultiBatchEncoder(\n",
       "    (module): AWD_LSTM(\n",
       "      (encoder): Embedding(48, 400, padding_idx=1)\n",
       "      (encoder_dp): EmbeddingDropout(\n",
       "        (emb): Embedding(48, 400, padding_idx=1)\n",
       "      )\n",
       "      (rnns): ModuleList(\n",
       "        (0): WeightDropout(\n",
       "          (module): LSTM(400, 1152, batch_first=True)\n",
       "        )\n",
       "        (1): WeightDropout(\n",
       "          (module): LSTM(1152, 1152, batch_first=True)\n",
       "        )\n",
       "        (2): WeightDropout(\n",
       "          (module): LSTM(1152, 400, batch_first=True)\n",
       "        )\n",
       "      )\n",
       "      (input_dp): RNNDropout()\n",
       "      (hidden_dps): ModuleList(\n",
       "        (0): RNNDropout()\n",
       "        (1): RNNDropout()\n",
       "        (2): RNNDropout()\n",
       "      )\n",
       "    )\n",
       "  )\n",
       "  (1): PoolingLinearClassifier(\n",
       "    (layers): Sequential(\n",
       "      (0): BatchNorm1d(1200, eps=1e-05, momentum=0.1, affine=True, track_running_stats=True)\n",
       "      (1): Dropout(p=0.2, inplace=False)\n",
       "      (2): Linear(in_features=1200, out_features=50, bias=True)\n",
       "      (3): ReLU(inplace=True)\n",
       "      (4): BatchNorm1d(50, eps=1e-05, momentum=0.1, affine=True, track_running_stats=True)\n",
       "      (5): Dropout(p=0.1, inplace=False)\n",
       "      (6): Linear(in_features=50, out_features=2, bias=True)\n",
       "    )\n",
       "  )\n",
       "), opt_func=functools.partial(<class 'torch.optim.adam.Adam'>, betas=(0.9, 0.99)), loss_func=FlattenedLoss of CrossEntropyLoss(), metrics=[<function accuracy at 0x7fba5d33f1e0>], true_wd=True, bn_wd=True, wd=0.01, train_bn=True, path=PosixPath('/home/danxu/nfs_danxu/python_nbs/DL_Neoantigen/Data/train'), model_dir='models', callback_fns=[functools.partial(<class 'fastai.basic_train.Recorder'>, add_time=True, silent=False)], callbacks=[...], layer_groups=[Sequential(\n",
       "  (0): Embedding(48, 400, padding_idx=1)\n",
       "  (1): EmbeddingDropout(\n",
       "    (emb): Embedding(48, 400, padding_idx=1)\n",
       "  )\n",
       "), Sequential(\n",
       "  (0): WeightDropout(\n",
       "    (module): LSTM(400, 1152, batch_first=True)\n",
       "  )\n",
       "  (1): RNNDropout()\n",
       "), Sequential(\n",
       "  (0): WeightDropout(\n",
       "    (module): LSTM(1152, 1152, batch_first=True)\n",
       "  )\n",
       "  (1): RNNDropout()\n",
       "), Sequential(\n",
       "  (0): WeightDropout(\n",
       "    (module): LSTM(1152, 400, batch_first=True)\n",
       "  )\n",
       "  (1): RNNDropout()\n",
       "), Sequential(\n",
       "  (0): PoolingLinearClassifier(\n",
       "    (layers): Sequential(\n",
       "      (0): BatchNorm1d(1200, eps=1e-05, momentum=0.1, affine=True, track_running_stats=True)\n",
       "      (1): Dropout(p=0.2, inplace=False)\n",
       "      (2): Linear(in_features=1200, out_features=50, bias=True)\n",
       "      (3): ReLU(inplace=True)\n",
       "      (4): BatchNorm1d(50, eps=1e-05, momentum=0.1, affine=True, track_running_stats=True)\n",
       "      (5): Dropout(p=0.1, inplace=False)\n",
       "      (6): Linear(in_features=50, out_features=2, bias=True)\n",
       "    )\n",
       "  )\n",
       ")], add_time=True, silent=False)\n",
       "alpha: 2.0\n",
       "beta: 1.0], layer_groups=[Sequential(\n",
       "  (0): Embedding(48, 400, padding_idx=1)\n",
       "  (1): EmbeddingDropout(\n",
       "    (emb): Embedding(48, 400, padding_idx=1)\n",
       "  )\n",
       "), Sequential(\n",
       "  (0): WeightDropout(\n",
       "    (module): LSTM(400, 1152, batch_first=True)\n",
       "  )\n",
       "  (1): RNNDropout()\n",
       "), Sequential(\n",
       "  (0): WeightDropout(\n",
       "    (module): LSTM(1152, 1152, batch_first=True)\n",
       "  )\n",
       "  (1): RNNDropout()\n",
       "), Sequential(\n",
       "  (0): WeightDropout(\n",
       "    (module): LSTM(1152, 400, batch_first=True)\n",
       "  )\n",
       "  (1): RNNDropout()\n",
       "), Sequential(\n",
       "  (0): PoolingLinearClassifier(\n",
       "    (layers): Sequential(\n",
       "      (0): BatchNorm1d(1200, eps=1e-05, momentum=0.1, affine=True, track_running_stats=True)\n",
       "      (1): Dropout(p=0.2, inplace=False)\n",
       "      (2): Linear(in_features=1200, out_features=50, bias=True)\n",
       "      (3): ReLU(inplace=True)\n",
       "      (4): BatchNorm1d(50, eps=1e-05, momentum=0.1, affine=True, track_running_stats=True)\n",
       "      (5): Dropout(p=0.1, inplace=False)\n",
       "      (6): Linear(in_features=50, out_features=2, bias=True)\n",
       "    )\n",
       "  )\n",
       ")], add_time=True, silent=False)"
      ]
     },
     "execution_count": 25,
     "metadata": {},
     "output_type": "execute_result"
    }
   ],
   "source": [
    "learn = text_classifier_learner(data_clas, AWD_LSTM, drop_mult=0.5)\n",
    "learn.load_encoder(f'{m_path}/uniprot_lm_human_fine_tuned_enc')"
   ]
  },
  {
   "cell_type": "code",
   "execution_count": 26,
   "metadata": {},
   "outputs": [
    {
     "data": {
      "text/html": [
       "\n",
       "    <div>\n",
       "        <style>\n",
       "            /* Turns off some styling */\n",
       "            progress {\n",
       "                /* gets rid of default border in Firefox and Opera. */\n",
       "                border: none;\n",
       "                /* Needs to be in here for Safari polyfill so background images work as expected. */\n",
       "                background-size: auto;\n",
       "            }\n",
       "            .progress-bar-interrupted, .progress-bar-interrupted::-webkit-progress-bar {\n",
       "                background: #F44336;\n",
       "            }\n",
       "        </style>\n",
       "      <progress value='0' class='' max='1', style='width:300px; height:20px; vertical-align: middle;'></progress>\n",
       "      0.00% [0/1 00:00<00:00]\n",
       "    </div>\n",
       "    \n",
       "<table border=\"1\" class=\"dataframe\">\n",
       "  <thead>\n",
       "    <tr style=\"text-align: left;\">\n",
       "      <th>epoch</th>\n",
       "      <th>train_loss</th>\n",
       "      <th>valid_loss</th>\n",
       "      <th>accuracy</th>\n",
       "      <th>time</th>\n",
       "    </tr>\n",
       "  </thead>\n",
       "  <tbody>\n",
       "  </tbody>\n",
       "</table><p>\n",
       "\n",
       "    <div>\n",
       "        <style>\n",
       "            /* Turns off some styling */\n",
       "            progress {\n",
       "                /* gets rid of default border in Firefox and Opera. */\n",
       "                border: none;\n",
       "                /* Needs to be in here for Safari polyfill so background images work as expected. */\n",
       "                background-size: auto;\n",
       "            }\n",
       "            .progress-bar-interrupted, .progress-bar-interrupted::-webkit-progress-bar {\n",
       "                background: #F44336;\n",
       "            }\n",
       "        </style>\n",
       "      <progress value='97' class='' max='93168', style='width:300px; height:20px; vertical-align: middle;'></progress>\n",
       "      0.10% [97/93168 02:11<35:07:33 1.1540]\n",
       "    </div>\n",
       "    "
      ],
      "text/plain": [
       "<IPython.core.display.HTML object>"
      ]
     },
     "metadata": {},
     "output_type": "display_data"
    },
    {
     "name": "stdout",
     "output_type": "stream",
     "text": [
      "LR Finder is complete, type {learner_name}.recorder.plot() to see the graph.\n"
     ]
    }
   ],
   "source": [
    "learn.lr_find()"
   ]
  },
  {
   "cell_type": "code",
   "execution_count": 27,
   "metadata": {},
   "outputs": [
    {
     "data": {
      "image/png": "[encoded data removed]",
      "text/plain": [
       "<Figure size 432x288 with 1 Axes>"
      ]
     },
     "metadata": {
      "needs_background": "light"
     },
     "output_type": "display_data"
    }
   ],
   "source": [
    "learn.recorder.plot()"
   ]
  },
  {
   "cell_type": "code",
   "execution_count": 28,
   "metadata": {},
   "outputs": [
    {
     "data": {
      "text/html": [
       "<table border=\"1\" class=\"dataframe\">\n",
       "  <thead>\n",
       "    <tr style=\"text-align: left;\">\n",
       "      <th>epoch</th>\n",
       "      <th>train_loss</th>\n",
       "      <th>valid_loss</th>\n",
       "      <th>accuracy</th>\n",
       "      <th>time</th>\n",
       "    </tr>\n",
       "  </thead>\n",
       "  <tbody>\n",
       "    <tr>\n",
       "      <td>0</td>\n",
       "      <td>0.164466</td>\n",
       "      <td>0.490211</td>\n",
       "      <td>0.947738</td>\n",
       "      <td>24:10</td>\n",
       "    </tr>\n",
       "  </tbody>\n",
       "</table>"
      ],
      "text/plain": [
       "<IPython.core.display.HTML object>"
      ]
     },
     "metadata": {},
     "output_type": "display_data"
    }
   ],
   "source": [
    "learn.fit_one_cycle(1, 1e-1, moms=(0.8,0.7))"
   ]
  },
  {
   "cell_type": "code",
   "execution_count": 78,
   "metadata": {},
   "outputs": [],
   "source": [
    "learn.save(f'{m_path}/ms_pepOnly_first') "
   ]
  },
  {
   "cell_type": "code",
   "execution_count": 37,
   "metadata": {},
   "outputs": [
    {
     "data": {
      "text/html": [
       "<table border=\"1\" class=\"dataframe\">\n",
       "  <thead>\n",
       "    <tr style=\"text-align: left;\">\n",
       "      <th>epoch</th>\n",
       "      <th>train_loss</th>\n",
       "      <th>valid_loss</th>\n",
       "      <th>accuracy</th>\n",
       "      <th>time</th>\n",
       "    </tr>\n",
       "  </thead>\n",
       "  <tbody>\n",
       "    <tr>\n",
       "      <td>0</td>\n",
       "      <td>0.099677</td>\n",
       "      <td>0.109846</td>\n",
       "      <td>0.964991</td>\n",
       "      <td>27:10</td>\n",
       "    </tr>\n",
       "  </tbody>\n",
       "</table>"
      ],
      "text/plain": [
       "<IPython.core.display.HTML object>"
      ]
     },
     "metadata": {},
     "output_type": "display_data"
    }
   ],
   "source": [
    "learn.freeze_to(-2)\n",
    "learn.fit_one_cycle(1, slice(1e-2/(2.6**4),1e-2), moms=(0.8,0.7))"
   ]
  },
  {
   "cell_type": "code",
   "execution_count": 38,
   "metadata": {},
   "outputs": [],
   "source": [
    "learn.save(f'{m_path}/ms_pepOnly_second') "
   ]
  },
  {
   "cell_type": "code",
   "execution_count": 39,
   "metadata": {},
   "outputs": [
    {
     "data": {
      "text/html": [
       "<table border=\"1\" class=\"dataframe\">\n",
       "  <thead>\n",
       "    <tr style=\"text-align: left;\">\n",
       "      <th>epoch</th>\n",
       "      <th>train_loss</th>\n",
       "      <th>valid_loss</th>\n",
       "      <th>accuracy</th>\n",
       "      <th>time</th>\n",
       "    </tr>\n",
       "  </thead>\n",
       "  <tbody>\n",
       "    <tr>\n",
       "      <td>0</td>\n",
       "      <td>0.092842</td>\n",
       "      <td>0.099810</td>\n",
       "      <td>0.967430</td>\n",
       "      <td>30:59</td>\n",
       "    </tr>\n",
       "  </tbody>\n",
       "</table>"
      ],
      "text/plain": [
       "<IPython.core.display.HTML object>"
      ]
     },
     "metadata": {},
     "output_type": "display_data"
    }
   ],
   "source": [
    "learn.freeze_to(-3)\n",
    "learn.fit_one_cycle(1, slice(5e-3/(2.6**4),5e-3), moms=(0.8,0.7))"
   ]
  },
  {
   "cell_type": "code",
   "execution_count": 40,
   "metadata": {},
   "outputs": [],
   "source": [
    "learn.save(f'{m_path}/ms_pepOnly_third') "
   ]
  },
  {
   "cell_type": "code",
   "execution_count": 41,
   "metadata": {},
   "outputs": [
    {
     "data": {
      "text/html": [
       "<table border=\"1\" class=\"dataframe\">\n",
       "  <thead>\n",
       "    <tr style=\"text-align: left;\">\n",
       "      <th>epoch</th>\n",
       "      <th>train_loss</th>\n",
       "      <th>valid_loss</th>\n",
       "      <th>accuracy</th>\n",
       "      <th>time</th>\n",
       "    </tr>\n",
       "  </thead>\n",
       "  <tbody>\n",
       "    <tr>\n",
       "      <td>0</td>\n",
       "      <td>0.103144</td>\n",
       "      <td>0.096412</td>\n",
       "      <td>0.969461</td>\n",
       "      <td>36:45</td>\n",
       "    </tr>\n",
       "    <tr>\n",
       "      <td>1</td>\n",
       "      <td>0.087395</td>\n",
       "      <td>0.092660</td>\n",
       "      <td>0.970501</td>\n",
       "      <td>35:58</td>\n",
       "    </tr>\n",
       "  </tbody>\n",
       "</table>"
      ],
      "text/plain": [
       "<IPython.core.display.HTML object>"
      ]
     },
     "metadata": {},
     "output_type": "display_data"
    }
   ],
   "source": [
    "learn.unfreeze()\n",
    "learn.fit_one_cycle(2, slice(1e-3/(2.6**4),1e-3), moms=(0.8,0.7))"
   ]
  },
  {
   "cell_type": "code",
   "execution_count": 42,
   "metadata": {},
   "outputs": [],
   "source": [
    "learn.save(f'{m_path}/ms_pepOnly') "
   ]
  },
  {
   "cell_type": "markdown",
   "metadata": {},
   "source": [
    "# Test"
   ]
  },
  {
   "cell_type": "code",
   "execution_count": 48,
   "metadata": {},
   "outputs": [
    {
     "data": {
      "text/html": [],
      "text/plain": [
       "<IPython.core.display.HTML object>"
      ]
     },
     "metadata": {},
     "output_type": "display_data"
    },
    {
     "data": {
      "text/html": [],
      "text/plain": [
       "<IPython.core.display.HTML object>"
      ]
     },
     "metadata": {},
     "output_type": "display_data"
    }
   ],
   "source": [
    "data_test = (TextList.from_csv(f'{d_path}/test', 'test_pep.csv', vocab=data_lm.vocab, cols='peptide',\n",
    "                              processor=[char_tokenize_processor, NumericalizeProcessor()])\n",
    "             .split_none()\n",
    "             .label_from_df(cols=3)\n",
    "             .databunch(bs=bs))\n",
    "\n",
    "data_test.save('data_test.pkl')"
   ]
  },
  {
   "cell_type": "code",
   "execution_count": null,
   "metadata": {},
   "outputs": [],
   "source": [
    "data_test = load_data((f'{d_path}/test', 'data_test.pkl', bs=128)"
   ]
  },
  {
   "cell_type": "code",
   "execution_count": 30,
   "metadata": {},
   "outputs": [],
   "source": [
    "df_test = pd.read_csv(f'{d_path}/test/test_pep.csv')"
   ]
  },
  {
   "cell_type": "code",
   "execution_count": 46,
   "metadata": {},
   "outputs": [],
   "source": [
    "preds = []\n",
    "for pep in df_test.peptide.values:\n",
    "    preds.append(learn.predict(pep)[1].tolist())\n",
    "df_test['preds'] = preds"
   ]
  },
  {
   "cell_type": "code",
   "execution_count": 45,
   "metadata": {
    "collapsed": true,
    "jupyter": {
     "outputs_hidden": true
    }
   },
   "outputs": [
    {
     "data": {
      "text/html": [
       "\n",
       "    <div>\n",
       "        <style>\n",
       "            /* Turns off some styling */\n",
       "            progress {\n",
       "                /* gets rid of default border in Firefox and Opera. */\n",
       "                border: none;\n",
       "                /* Needs to be in here for Safari polyfill so background images work as expected. */\n",
       "                background-size: auto;\n",
       "            }\n",
       "            .progress-bar-interrupted, .progress-bar-interrupted::-webkit-progress-bar {\n",
       "                background: #F44336;\n",
       "            }\n",
       "        </style>\n",
       "      <progress value='7060' class='' max='93169', style='width:300px; height:20px; vertical-align: middle;'></progress>\n",
       "      7.58% [7060/93169 00:53<10:49]\n",
       "    </div>\n",
       "    "
      ],
      "text/plain": [
       "<IPython.core.display.HTML object>"
      ]
     },
     "metadata": {},
     "output_type": "display_data"
    },
    {
     "ename": "KeyboardInterrupt",
     "evalue": "",
     "output_type": "error",
     "traceback": [
      "\u001b[0;31m---------------------------------------------------------------------------\u001b[0m",
      "\u001b[0;31mKeyboardInterrupt\u001b[0m                         Traceback (most recent call last)",
      "\u001b[0;32m<ipython-input-45-9657e925c8a2>\u001b[0m in \u001b[0;36m<module>\u001b[0;34m\u001b[0m\n\u001b[0;32m----> 1\u001b[0;31m \u001b[0mpreds\u001b[0m \u001b[0;34m=\u001b[0m \u001b[0mlearn\u001b[0m\u001b[0;34m.\u001b[0m\u001b[0mget_preds\u001b[0m\u001b[0;34m(\u001b[0m\u001b[0mdata_test\u001b[0m\u001b[0;34m)\u001b[0m\u001b[0;34m\u001b[0m\u001b[0;34m\u001b[0m\u001b[0m\n\u001b[0m",
      "\u001b[0;32m/mnt/nfs/user/danxu/anaconda3/lib/python3.6/site-packages/fastai/text/learner.py\u001b[0m in \u001b[0;36mget_preds\u001b[0;34m(self, ds_type, activ, with_loss, n_batch, pbar, ordered)\u001b[0m\n\u001b[1;32m     88\u001b[0m         \u001b[0mself\u001b[0m\u001b[0;34m.\u001b[0m\u001b[0mmodel\u001b[0m\u001b[0;34m.\u001b[0m\u001b[0mreset\u001b[0m\u001b[0;34m(\u001b[0m\u001b[0;34m)\u001b[0m\u001b[0;34m\u001b[0m\u001b[0;34m\u001b[0m\u001b[0m\n\u001b[1;32m     89\u001b[0m         \u001b[0;32mif\u001b[0m \u001b[0mordered\u001b[0m\u001b[0;34m:\u001b[0m \u001b[0mnp\u001b[0m\u001b[0;34m.\u001b[0m\u001b[0mrandom\u001b[0m\u001b[0;34m.\u001b[0m\u001b[0mseed\u001b[0m\u001b[0;34m(\u001b[0m\u001b[0;36m42\u001b[0m\u001b[0;34m)\u001b[0m\u001b[0;34m\u001b[0m\u001b[0;34m\u001b[0m\u001b[0m\n\u001b[0;32m---> 90\u001b[0;31m         \u001b[0mpreds\u001b[0m \u001b[0;34m=\u001b[0m \u001b[0msuper\u001b[0m\u001b[0;34m(\u001b[0m\u001b[0;34m)\u001b[0m\u001b[0;34m.\u001b[0m\u001b[0mget_preds\u001b[0m\u001b[0;34m(\u001b[0m\u001b[0mds_type\u001b[0m\u001b[0;34m=\u001b[0m\u001b[0mds_type\u001b[0m\u001b[0;34m,\u001b[0m \u001b[0mactiv\u001b[0m\u001b[0;34m=\u001b[0m\u001b[0mactiv\u001b[0m\u001b[0;34m,\u001b[0m \u001b[0mwith_loss\u001b[0m\u001b[0;34m=\u001b[0m\u001b[0mwith_loss\u001b[0m\u001b[0;34m,\u001b[0m \u001b[0mn_batch\u001b[0m\u001b[0;34m=\u001b[0m\u001b[0mn_batch\u001b[0m\u001b[0;34m,\u001b[0m \u001b[0mpbar\u001b[0m\u001b[0;34m=\u001b[0m\u001b[0mpbar\u001b[0m\u001b[0;34m)\u001b[0m\u001b[0;34m\u001b[0m\u001b[0;34m\u001b[0m\u001b[0m\n\u001b[0m\u001b[1;32m     91\u001b[0m         \u001b[0;32mif\u001b[0m \u001b[0mordered\u001b[0m \u001b[0;32mand\u001b[0m \u001b[0mhasattr\u001b[0m\u001b[0;34m(\u001b[0m\u001b[0mself\u001b[0m\u001b[0;34m.\u001b[0m\u001b[0mdl\u001b[0m\u001b[0;34m(\u001b[0m\u001b[0mds_type\u001b[0m\u001b[0;34m)\u001b[0m\u001b[0;34m,\u001b[0m \u001b[0;34m'sampler'\u001b[0m\u001b[0;34m)\u001b[0m\u001b[0;34m:\u001b[0m\u001b[0;34m\u001b[0m\u001b[0;34m\u001b[0m\u001b[0m\n\u001b[1;32m     92\u001b[0m             \u001b[0mnp\u001b[0m\u001b[0;34m.\u001b[0m\u001b[0mrandom\u001b[0m\u001b[0;34m.\u001b[0m\u001b[0mseed\u001b[0m\u001b[0;34m(\u001b[0m\u001b[0;36m42\u001b[0m\u001b[0;34m)\u001b[0m\u001b[0;34m\u001b[0m\u001b[0;34m\u001b[0m\u001b[0m\n",
      "\u001b[0;32m/mnt/nfs/user/danxu/anaconda3/lib/python3.6/site-packages/fastai/basic_train.py\u001b[0m in \u001b[0;36mget_preds\u001b[0;34m(self, ds_type, activ, with_loss, n_batch, pbar)\u001b[0m\n\u001b[1;32m    339\u001b[0m         \u001b[0mcallbacks\u001b[0m \u001b[0;34m=\u001b[0m \u001b[0;34m[\u001b[0m\u001b[0mcb\u001b[0m\u001b[0;34m(\u001b[0m\u001b[0mself\u001b[0m\u001b[0;34m)\u001b[0m \u001b[0;32mfor\u001b[0m \u001b[0mcb\u001b[0m \u001b[0;32min\u001b[0m \u001b[0mself\u001b[0m\u001b[0;34m.\u001b[0m\u001b[0mcallback_fns\u001b[0m \u001b[0;34m+\u001b[0m \u001b[0mlistify\u001b[0m\u001b[0;34m(\u001b[0m\u001b[0mdefaults\u001b[0m\u001b[0;34m.\u001b[0m\u001b[0mextra_callback_fns\u001b[0m\u001b[0;34m)\u001b[0m\u001b[0;34m]\u001b[0m \u001b[0;34m+\u001b[0m \u001b[0mlistify\u001b[0m\u001b[0;34m(\u001b[0m\u001b[0mself\u001b[0m\u001b[0;34m.\u001b[0m\u001b[0mcallbacks\u001b[0m\u001b[0;34m)\u001b[0m\u001b[0;34m\u001b[0m\u001b[0;34m\u001b[0m\u001b[0m\n\u001b[1;32m    340\u001b[0m         return get_preds(self.model, self.dl(ds_type), cb_handler=CallbackHandler(callbacks),\n\u001b[0;32m--> 341\u001b[0;31m                          activ=activ, loss_func=lf, n_batch=n_batch, pbar=pbar)\n\u001b[0m\u001b[1;32m    342\u001b[0m \u001b[0;34m\u001b[0m\u001b[0m\n\u001b[1;32m    343\u001b[0m     def pred_batch(self, ds_type:DatasetType=DatasetType.Valid, batch:Tuple=None, reconstruct:bool=False,\n",
      "\u001b[0;32m/mnt/nfs/user/danxu/anaconda3/lib/python3.6/site-packages/fastai/basic_train.py\u001b[0m in \u001b[0;36mget_preds\u001b[0;34m(model, dl, pbar, cb_handler, activ, loss_func, n_batch)\u001b[0m\n\u001b[1;32m     42\u001b[0m     \u001b[0;34m\"Tuple of predictions and targets, and optional losses (if `loss_func`) using `dl`, max batches `n_batch`.\"\u001b[0m\u001b[0;34m\u001b[0m\u001b[0;34m\u001b[0m\u001b[0m\n\u001b[1;32m     43\u001b[0m     res = [to_float(torch.cat(o).cpu()) for o in\n\u001b[0;32m---> 44\u001b[0;31m            zip(*validate(model, dl, cb_handler=cb_handler, pbar=pbar, average=False, n_batch=n_batch))]\n\u001b[0m\u001b[1;32m     45\u001b[0m     \u001b[0;32mif\u001b[0m \u001b[0mloss_func\u001b[0m \u001b[0;32mis\u001b[0m \u001b[0;32mnot\u001b[0m \u001b[0;32mNone\u001b[0m\u001b[0;34m:\u001b[0m\u001b[0;34m\u001b[0m\u001b[0;34m\u001b[0m\u001b[0m\n\u001b[1;32m     46\u001b[0m         \u001b[0;32mwith\u001b[0m \u001b[0mNoneReduceOnCPU\u001b[0m\u001b[0;34m(\u001b[0m\u001b[0mloss_func\u001b[0m\u001b[0;34m)\u001b[0m \u001b[0;32mas\u001b[0m \u001b[0mlf\u001b[0m\u001b[0;34m:\u001b[0m \u001b[0mres\u001b[0m\u001b[0;34m.\u001b[0m\u001b[0mappend\u001b[0m\u001b[0;34m(\u001b[0m\u001b[0mlf\u001b[0m\u001b[0;34m(\u001b[0m\u001b[0mres\u001b[0m\u001b[0;34m[\u001b[0m\u001b[0;36m0\u001b[0m\u001b[0;34m]\u001b[0m\u001b[0;34m,\u001b[0m \u001b[0mres\u001b[0m\u001b[0;34m[\u001b[0m\u001b[0;36m1\u001b[0m\u001b[0;34m]\u001b[0m\u001b[0;34m)\u001b[0m\u001b[0;34m)\u001b[0m\u001b[0;34m\u001b[0m\u001b[0;34m\u001b[0m\u001b[0m\n",
      "\u001b[0;32m/mnt/nfs/user/danxu/anaconda3/lib/python3.6/site-packages/fastai/basic_train.py\u001b[0m in \u001b[0;36mvalidate\u001b[0;34m(model, dl, loss_func, cb_handler, pbar, average, n_batch)\u001b[0m\n\u001b[1;32m     57\u001b[0m         \u001b[0;32mfor\u001b[0m \u001b[0mxb\u001b[0m\u001b[0;34m,\u001b[0m\u001b[0myb\u001b[0m \u001b[0;32min\u001b[0m \u001b[0mprogress_bar\u001b[0m\u001b[0;34m(\u001b[0m\u001b[0mdl\u001b[0m\u001b[0;34m,\u001b[0m \u001b[0mparent\u001b[0m\u001b[0;34m=\u001b[0m\u001b[0mpbar\u001b[0m\u001b[0;34m,\u001b[0m \u001b[0mleave\u001b[0m\u001b[0;34m=\u001b[0m\u001b[0;34m(\u001b[0m\u001b[0mpbar\u001b[0m \u001b[0;32mis\u001b[0m \u001b[0;32mnot\u001b[0m \u001b[0;32mNone\u001b[0m\u001b[0;34m)\u001b[0m\u001b[0;34m)\u001b[0m\u001b[0;34m:\u001b[0m\u001b[0;34m\u001b[0m\u001b[0;34m\u001b[0m\u001b[0m\n\u001b[1;32m     58\u001b[0m             \u001b[0;32mif\u001b[0m \u001b[0mcb_handler\u001b[0m\u001b[0;34m:\u001b[0m \u001b[0mxb\u001b[0m\u001b[0;34m,\u001b[0m \u001b[0myb\u001b[0m \u001b[0;34m=\u001b[0m \u001b[0mcb_handler\u001b[0m\u001b[0;34m.\u001b[0m\u001b[0mon_batch_begin\u001b[0m\u001b[0;34m(\u001b[0m\u001b[0mxb\u001b[0m\u001b[0;34m,\u001b[0m \u001b[0myb\u001b[0m\u001b[0;34m,\u001b[0m \u001b[0mtrain\u001b[0m\u001b[0;34m=\u001b[0m\u001b[0;32mFalse\u001b[0m\u001b[0;34m)\u001b[0m\u001b[0;34m\u001b[0m\u001b[0;34m\u001b[0m\u001b[0m\n\u001b[0;32m---> 59\u001b[0;31m             \u001b[0mval_loss\u001b[0m \u001b[0;34m=\u001b[0m \u001b[0mloss_batch\u001b[0m\u001b[0;34m(\u001b[0m\u001b[0mmodel\u001b[0m\u001b[0;34m,\u001b[0m \u001b[0mxb\u001b[0m\u001b[0;34m,\u001b[0m \u001b[0myb\u001b[0m\u001b[0;34m,\u001b[0m \u001b[0mloss_func\u001b[0m\u001b[0;34m,\u001b[0m \u001b[0mcb_handler\u001b[0m\u001b[0;34m=\u001b[0m\u001b[0mcb_handler\u001b[0m\u001b[0;34m)\u001b[0m\u001b[0;34m\u001b[0m\u001b[0;34m\u001b[0m\u001b[0m\n\u001b[0m\u001b[1;32m     60\u001b[0m             \u001b[0mval_losses\u001b[0m\u001b[0;34m.\u001b[0m\u001b[0mappend\u001b[0m\u001b[0;34m(\u001b[0m\u001b[0mval_loss\u001b[0m\u001b[0;34m)\u001b[0m\u001b[0;34m\u001b[0m\u001b[0;34m\u001b[0m\u001b[0m\n\u001b[1;32m     61\u001b[0m             \u001b[0;32mif\u001b[0m \u001b[0;32mnot\u001b[0m \u001b[0mis_listy\u001b[0m\u001b[0;34m(\u001b[0m\u001b[0myb\u001b[0m\u001b[0;34m)\u001b[0m\u001b[0;34m:\u001b[0m \u001b[0myb\u001b[0m \u001b[0;34m=\u001b[0m \u001b[0;34m[\u001b[0m\u001b[0myb\u001b[0m\u001b[0;34m]\u001b[0m\u001b[0;34m\u001b[0m\u001b[0;34m\u001b[0m\u001b[0m\n",
      "\u001b[0;32m/mnt/nfs/user/danxu/anaconda3/lib/python3.6/site-packages/fastai/basic_train.py\u001b[0m in \u001b[0;36mloss_batch\u001b[0;34m(model, xb, yb, loss_func, opt, cb_handler)\u001b[0m\n\u001b[1;32m     24\u001b[0m     \u001b[0;32mif\u001b[0m \u001b[0;32mnot\u001b[0m \u001b[0mis_listy\u001b[0m\u001b[0;34m(\u001b[0m\u001b[0mxb\u001b[0m\u001b[0;34m)\u001b[0m\u001b[0;34m:\u001b[0m \u001b[0mxb\u001b[0m \u001b[0;34m=\u001b[0m \u001b[0;34m[\u001b[0m\u001b[0mxb\u001b[0m\u001b[0;34m]\u001b[0m\u001b[0;34m\u001b[0m\u001b[0;34m\u001b[0m\u001b[0m\n\u001b[1;32m     25\u001b[0m     \u001b[0;32mif\u001b[0m \u001b[0;32mnot\u001b[0m \u001b[0mis_listy\u001b[0m\u001b[0;34m(\u001b[0m\u001b[0myb\u001b[0m\u001b[0;34m)\u001b[0m\u001b[0;34m:\u001b[0m \u001b[0myb\u001b[0m \u001b[0;34m=\u001b[0m \u001b[0;34m[\u001b[0m\u001b[0myb\u001b[0m\u001b[0;34m]\u001b[0m\u001b[0;34m\u001b[0m\u001b[0;34m\u001b[0m\u001b[0m\n\u001b[0;32m---> 26\u001b[0;31m     \u001b[0mout\u001b[0m \u001b[0;34m=\u001b[0m \u001b[0mmodel\u001b[0m\u001b[0;34m(\u001b[0m\u001b[0;34m*\u001b[0m\u001b[0mxb\u001b[0m\u001b[0;34m)\u001b[0m\u001b[0;34m\u001b[0m\u001b[0;34m\u001b[0m\u001b[0m\n\u001b[0m\u001b[1;32m     27\u001b[0m     \u001b[0mout\u001b[0m \u001b[0;34m=\u001b[0m \u001b[0mcb_handler\u001b[0m\u001b[0;34m.\u001b[0m\u001b[0mon_loss_begin\u001b[0m\u001b[0;34m(\u001b[0m\u001b[0mout\u001b[0m\u001b[0;34m)\u001b[0m\u001b[0;34m\u001b[0m\u001b[0;34m\u001b[0m\u001b[0m\n\u001b[1;32m     28\u001b[0m \u001b[0;34m\u001b[0m\u001b[0m\n",
      "\u001b[0;32m/mnt/nfs/user/danxu/anaconda3/lib/python3.6/site-packages/torch/nn/modules/module.py\u001b[0m in \u001b[0;36m__call__\u001b[0;34m(self, *input, **kwargs)\u001b[0m\n\u001b[1;32m    530\u001b[0m             \u001b[0mresult\u001b[0m \u001b[0;34m=\u001b[0m \u001b[0mself\u001b[0m\u001b[0;34m.\u001b[0m\u001b[0m_slow_forward\u001b[0m\u001b[0;34m(\u001b[0m\u001b[0;34m*\u001b[0m\u001b[0minput\u001b[0m\u001b[0;34m,\u001b[0m \u001b[0;34m**\u001b[0m\u001b[0mkwargs\u001b[0m\u001b[0;34m)\u001b[0m\u001b[0;34m\u001b[0m\u001b[0;34m\u001b[0m\u001b[0m\n\u001b[1;32m    531\u001b[0m         \u001b[0;32melse\u001b[0m\u001b[0;34m:\u001b[0m\u001b[0;34m\u001b[0m\u001b[0;34m\u001b[0m\u001b[0m\n\u001b[0;32m--> 532\u001b[0;31m             \u001b[0mresult\u001b[0m \u001b[0;34m=\u001b[0m \u001b[0mself\u001b[0m\u001b[0;34m.\u001b[0m\u001b[0mforward\u001b[0m\u001b[0;34m(\u001b[0m\u001b[0;34m*\u001b[0m\u001b[0minput\u001b[0m\u001b[0;34m,\u001b[0m \u001b[0;34m**\u001b[0m\u001b[0mkwargs\u001b[0m\u001b[0;34m)\u001b[0m\u001b[0;34m\u001b[0m\u001b[0;34m\u001b[0m\u001b[0m\n\u001b[0m\u001b[1;32m    533\u001b[0m         \u001b[0;32mfor\u001b[0m \u001b[0mhook\u001b[0m \u001b[0;32min\u001b[0m \u001b[0mself\u001b[0m\u001b[0;34m.\u001b[0m\u001b[0m_forward_hooks\u001b[0m\u001b[0;34m.\u001b[0m\u001b[0mvalues\u001b[0m\u001b[0;34m(\u001b[0m\u001b[0;34m)\u001b[0m\u001b[0;34m:\u001b[0m\u001b[0;34m\u001b[0m\u001b[0;34m\u001b[0m\u001b[0m\n\u001b[1;32m    534\u001b[0m             \u001b[0mhook_result\u001b[0m \u001b[0;34m=\u001b[0m \u001b[0mhook\u001b[0m\u001b[0;34m(\u001b[0m\u001b[0mself\u001b[0m\u001b[0;34m,\u001b[0m \u001b[0minput\u001b[0m\u001b[0;34m,\u001b[0m \u001b[0mresult\u001b[0m\u001b[0;34m)\u001b[0m\u001b[0;34m\u001b[0m\u001b[0;34m\u001b[0m\u001b[0m\n",
      "\u001b[0;32m/mnt/nfs/user/danxu/anaconda3/lib/python3.6/site-packages/torch/nn/modules/container.py\u001b[0m in \u001b[0;36mforward\u001b[0;34m(self, input)\u001b[0m\n\u001b[1;32m     98\u001b[0m     \u001b[0;32mdef\u001b[0m \u001b[0mforward\u001b[0m\u001b[0;34m(\u001b[0m\u001b[0mself\u001b[0m\u001b[0;34m,\u001b[0m \u001b[0minput\u001b[0m\u001b[0;34m)\u001b[0m\u001b[0;34m:\u001b[0m\u001b[0;34m\u001b[0m\u001b[0;34m\u001b[0m\u001b[0m\n\u001b[1;32m     99\u001b[0m         \u001b[0;32mfor\u001b[0m \u001b[0mmodule\u001b[0m \u001b[0;32min\u001b[0m \u001b[0mself\u001b[0m\u001b[0;34m:\u001b[0m\u001b[0;34m\u001b[0m\u001b[0;34m\u001b[0m\u001b[0m\n\u001b[0;32m--> 100\u001b[0;31m             \u001b[0minput\u001b[0m \u001b[0;34m=\u001b[0m \u001b[0mmodule\u001b[0m\u001b[0;34m(\u001b[0m\u001b[0minput\u001b[0m\u001b[0;34m)\u001b[0m\u001b[0;34m\u001b[0m\u001b[0;34m\u001b[0m\u001b[0m\n\u001b[0m\u001b[1;32m    101\u001b[0m         \u001b[0;32mreturn\u001b[0m \u001b[0minput\u001b[0m\u001b[0;34m\u001b[0m\u001b[0;34m\u001b[0m\u001b[0m\n\u001b[1;32m    102\u001b[0m \u001b[0;34m\u001b[0m\u001b[0m\n",
      "\u001b[0;32m/mnt/nfs/user/danxu/anaconda3/lib/python3.6/site-packages/torch/nn/modules/module.py\u001b[0m in \u001b[0;36m__call__\u001b[0;34m(self, *input, **kwargs)\u001b[0m\n\u001b[1;32m    530\u001b[0m             \u001b[0mresult\u001b[0m \u001b[0;34m=\u001b[0m \u001b[0mself\u001b[0m\u001b[0;34m.\u001b[0m\u001b[0m_slow_forward\u001b[0m\u001b[0;34m(\u001b[0m\u001b[0;34m*\u001b[0m\u001b[0minput\u001b[0m\u001b[0;34m,\u001b[0m \u001b[0;34m**\u001b[0m\u001b[0mkwargs\u001b[0m\u001b[0;34m)\u001b[0m\u001b[0;34m\u001b[0m\u001b[0;34m\u001b[0m\u001b[0m\n\u001b[1;32m    531\u001b[0m         \u001b[0;32melse\u001b[0m\u001b[0;34m:\u001b[0m\u001b[0;34m\u001b[0m\u001b[0;34m\u001b[0m\u001b[0m\n\u001b[0;32m--> 532\u001b[0;31m             \u001b[0mresult\u001b[0m \u001b[0;34m=\u001b[0m \u001b[0mself\u001b[0m\u001b[0;34m.\u001b[0m\u001b[0mforward\u001b[0m\u001b[0;34m(\u001b[0m\u001b[0;34m*\u001b[0m\u001b[0minput\u001b[0m\u001b[0;34m,\u001b[0m \u001b[0;34m**\u001b[0m\u001b[0mkwargs\u001b[0m\u001b[0;34m)\u001b[0m\u001b[0;34m\u001b[0m\u001b[0;34m\u001b[0m\u001b[0m\n\u001b[0m\u001b[1;32m    533\u001b[0m         \u001b[0;32mfor\u001b[0m \u001b[0mhook\u001b[0m \u001b[0;32min\u001b[0m \u001b[0mself\u001b[0m\u001b[0;34m.\u001b[0m\u001b[0m_forward_hooks\u001b[0m\u001b[0;34m.\u001b[0m\u001b[0mvalues\u001b[0m\u001b[0;34m(\u001b[0m\u001b[0;34m)\u001b[0m\u001b[0;34m:\u001b[0m\u001b[0;34m\u001b[0m\u001b[0;34m\u001b[0m\u001b[0m\n\u001b[1;32m    534\u001b[0m             \u001b[0mhook_result\u001b[0m \u001b[0;34m=\u001b[0m \u001b[0mhook\u001b[0m\u001b[0;34m(\u001b[0m\u001b[0mself\u001b[0m\u001b[0;34m,\u001b[0m \u001b[0minput\u001b[0m\u001b[0;34m,\u001b[0m \u001b[0mresult\u001b[0m\u001b[0;34m)\u001b[0m\u001b[0;34m\u001b[0m\u001b[0;34m\u001b[0m\u001b[0m\n",
      "\u001b[0;32m/mnt/nfs/user/danxu/anaconda3/lib/python3.6/site-packages/fastai/text/learner.py\u001b[0m in \u001b[0;36mforward\u001b[0;34m(self, input)\u001b[0m\n\u001b[1;32m    268\u001b[0m                 \u001b[0mraw_outputs\u001b[0m\u001b[0;34m.\u001b[0m\u001b[0mappend\u001b[0m\u001b[0;34m(\u001b[0m\u001b[0mr\u001b[0m\u001b[0;34m)\u001b[0m\u001b[0;34m\u001b[0m\u001b[0;34m\u001b[0m\u001b[0m\n\u001b[1;32m    269\u001b[0m                 \u001b[0moutputs\u001b[0m\u001b[0;34m.\u001b[0m\u001b[0mappend\u001b[0m\u001b[0;34m(\u001b[0m\u001b[0mo\u001b[0m\u001b[0;34m)\u001b[0m\u001b[0;34m\u001b[0m\u001b[0;34m\u001b[0m\u001b[0m\n\u001b[0;32m--> 270\u001b[0;31m         \u001b[0;32mreturn\u001b[0m \u001b[0mself\u001b[0m\u001b[0;34m.\u001b[0m\u001b[0mconcat\u001b[0m\u001b[0;34m(\u001b[0m\u001b[0mraw_outputs\u001b[0m\u001b[0;34m)\u001b[0m\u001b[0;34m,\u001b[0m\u001b[0mself\u001b[0m\u001b[0;34m.\u001b[0m\u001b[0mconcat\u001b[0m\u001b[0;34m(\u001b[0m\u001b[0moutputs\u001b[0m\u001b[0;34m)\u001b[0m\u001b[0;34m,\u001b[0m\u001b[0mtorch\u001b[0m\u001b[0;34m.\u001b[0m\u001b[0mcat\u001b[0m\u001b[0;34m(\u001b[0m\u001b[0mmasks\u001b[0m\u001b[0;34m,\u001b[0m\u001b[0mdim\u001b[0m\u001b[0;34m=\u001b[0m\u001b[0;36m1\u001b[0m\u001b[0;34m)\u001b[0m\u001b[0;34m\u001b[0m\u001b[0;34m\u001b[0m\u001b[0m\n\u001b[0m\u001b[1;32m    271\u001b[0m \u001b[0;34m\u001b[0m\u001b[0m\n\u001b[1;32m    272\u001b[0m def get_text_classifier(arch:Callable, vocab_sz:int, n_class:int, bptt:int=70, max_len:int=20*70, config:dict=None,\n",
      "\u001b[0;32m/mnt/nfs/user/danxu/anaconda3/lib/python3.6/site-packages/fastai/text/learner.py\u001b[0m in \u001b[0;36mconcat\u001b[0;34m(self, arrs)\u001b[0m\n\u001b[1;32m    253\u001b[0m     \u001b[0;32mdef\u001b[0m \u001b[0mconcat\u001b[0m\u001b[0;34m(\u001b[0m\u001b[0mself\u001b[0m\u001b[0;34m,\u001b[0m \u001b[0marrs\u001b[0m\u001b[0;34m:\u001b[0m\u001b[0mSequence\u001b[0m\u001b[0;34m[\u001b[0m\u001b[0mSequence\u001b[0m\u001b[0;34m[\u001b[0m\u001b[0mTensor\u001b[0m\u001b[0;34m]\u001b[0m\u001b[0;34m]\u001b[0m\u001b[0;34m)\u001b[0m\u001b[0;34m->\u001b[0m\u001b[0mList\u001b[0m\u001b[0;34m[\u001b[0m\u001b[0mTensor\u001b[0m\u001b[0;34m]\u001b[0m\u001b[0;34m:\u001b[0m\u001b[0;34m\u001b[0m\u001b[0;34m\u001b[0m\u001b[0m\n\u001b[1;32m    254\u001b[0m         \u001b[0;34m\"Concatenate the `arrs` along the batch dimension.\"\u001b[0m\u001b[0;34m\u001b[0m\u001b[0;34m\u001b[0m\u001b[0m\n\u001b[0;32m--> 255\u001b[0;31m         \u001b[0;32mreturn\u001b[0m \u001b[0;34m[\u001b[0m\u001b[0mtorch\u001b[0m\u001b[0;34m.\u001b[0m\u001b[0mcat\u001b[0m\u001b[0;34m(\u001b[0m\u001b[0;34m[\u001b[0m\u001b[0ml\u001b[0m\u001b[0;34m[\u001b[0m\u001b[0msi\u001b[0m\u001b[0;34m]\u001b[0m \u001b[0;32mfor\u001b[0m \u001b[0ml\u001b[0m \u001b[0;32min\u001b[0m \u001b[0marrs\u001b[0m\u001b[0;34m]\u001b[0m\u001b[0;34m,\u001b[0m \u001b[0mdim\u001b[0m\u001b[0;34m=\u001b[0m\u001b[0;36m1\u001b[0m\u001b[0;34m)\u001b[0m \u001b[0;32mfor\u001b[0m \u001b[0msi\u001b[0m \u001b[0;32min\u001b[0m \u001b[0mrange_of\u001b[0m\u001b[0;34m(\u001b[0m\u001b[0marrs\u001b[0m\u001b[0;34m[\u001b[0m\u001b[0;36m0\u001b[0m\u001b[0;34m]\u001b[0m\u001b[0;34m)\u001b[0m\u001b[0;34m]\u001b[0m\u001b[0;34m\u001b[0m\u001b[0;34m\u001b[0m\u001b[0m\n\u001b[0m\u001b[1;32m    256\u001b[0m \u001b[0;34m\u001b[0m\u001b[0m\n\u001b[1;32m    257\u001b[0m     \u001b[0;32mdef\u001b[0m \u001b[0mreset\u001b[0m\u001b[0;34m(\u001b[0m\u001b[0mself\u001b[0m\u001b[0;34m)\u001b[0m\u001b[0;34m:\u001b[0m\u001b[0;34m\u001b[0m\u001b[0;34m\u001b[0m\u001b[0m\n",
      "\u001b[0;32m/mnt/nfs/user/danxu/anaconda3/lib/python3.6/site-packages/fastai/text/learner.py\u001b[0m in \u001b[0;36m<listcomp>\u001b[0;34m(.0)\u001b[0m\n\u001b[1;32m    253\u001b[0m     \u001b[0;32mdef\u001b[0m \u001b[0mconcat\u001b[0m\u001b[0;34m(\u001b[0m\u001b[0mself\u001b[0m\u001b[0;34m,\u001b[0m \u001b[0marrs\u001b[0m\u001b[0;34m:\u001b[0m\u001b[0mSequence\u001b[0m\u001b[0;34m[\u001b[0m\u001b[0mSequence\u001b[0m\u001b[0;34m[\u001b[0m\u001b[0mTensor\u001b[0m\u001b[0;34m]\u001b[0m\u001b[0;34m]\u001b[0m\u001b[0;34m)\u001b[0m\u001b[0;34m->\u001b[0m\u001b[0mList\u001b[0m\u001b[0;34m[\u001b[0m\u001b[0mTensor\u001b[0m\u001b[0;34m]\u001b[0m\u001b[0;34m:\u001b[0m\u001b[0;34m\u001b[0m\u001b[0;34m\u001b[0m\u001b[0m\n\u001b[1;32m    254\u001b[0m         \u001b[0;34m\"Concatenate the `arrs` along the batch dimension.\"\u001b[0m\u001b[0;34m\u001b[0m\u001b[0;34m\u001b[0m\u001b[0m\n\u001b[0;32m--> 255\u001b[0;31m         \u001b[0;32mreturn\u001b[0m \u001b[0;34m[\u001b[0m\u001b[0mtorch\u001b[0m\u001b[0;34m.\u001b[0m\u001b[0mcat\u001b[0m\u001b[0;34m(\u001b[0m\u001b[0;34m[\u001b[0m\u001b[0ml\u001b[0m\u001b[0;34m[\u001b[0m\u001b[0msi\u001b[0m\u001b[0;34m]\u001b[0m \u001b[0;32mfor\u001b[0m \u001b[0ml\u001b[0m \u001b[0;32min\u001b[0m \u001b[0marrs\u001b[0m\u001b[0;34m]\u001b[0m\u001b[0;34m,\u001b[0m \u001b[0mdim\u001b[0m\u001b[0;34m=\u001b[0m\u001b[0;36m1\u001b[0m\u001b[0;34m)\u001b[0m \u001b[0;32mfor\u001b[0m \u001b[0msi\u001b[0m \u001b[0;32min\u001b[0m \u001b[0mrange_of\u001b[0m\u001b[0;34m(\u001b[0m\u001b[0marrs\u001b[0m\u001b[0;34m[\u001b[0m\u001b[0;36m0\u001b[0m\u001b[0;34m]\u001b[0m\u001b[0;34m)\u001b[0m\u001b[0;34m]\u001b[0m\u001b[0;34m\u001b[0m\u001b[0;34m\u001b[0m\u001b[0m\n\u001b[0m\u001b[1;32m    256\u001b[0m \u001b[0;34m\u001b[0m\u001b[0m\n\u001b[1;32m    257\u001b[0m     \u001b[0;32mdef\u001b[0m \u001b[0mreset\u001b[0m\u001b[0;34m(\u001b[0m\u001b[0mself\u001b[0m\u001b[0;34m)\u001b[0m\u001b[0;34m:\u001b[0m\u001b[0;34m\u001b[0m\u001b[0;34m\u001b[0m\u001b[0m\n",
      "\u001b[0;31mKeyboardInterrupt\u001b[0m: "
     ]
    }
   ],
   "source": [
    "preds = learn.get_preds(data_test)"
   ]
  },
  {
   "cell_type": "code",
   "execution_count": 35,
   "metadata": {},
   "outputs": [
    {
     "data": {
      "text/plain": [
       "16870"
      ]
     },
     "execution_count": 35,
     "metadata": {},
     "output_type": "execute_result"
    }
   ],
   "source": [
    "len(df_test[df_test.target==True])"
   ]
  },
  {
   "cell_type": "code",
   "execution_count": 36,
   "metadata": {},
   "outputs": [
    {
     "data": {
      "text/plain": [
       "382"
      ]
     },
     "execution_count": 36,
     "metadata": {},
     "output_type": "execute_result"
    }
   ],
   "source": [
    "df_test[df_test.target==True].preds.sum()"
   ]
  }
 ],
 "metadata": {
  "kernelspec": {
   "display_name": "Python 3",
   "language": "python",
   "name": "python3"
  },
  "language_info": {
   "codemirror_mode": {
    "name": "ipython",
    "version": 3
   },
   "file_extension": ".py",
   "mimetype": "text/x-python",
   "name": "python",
   "nbconvert_exporter": "python",
   "pygments_lexer": "ipython3",
   "version": "3.6.10"
  }
 },
 "nbformat": 4,
 "nbformat_minor": 4
}
